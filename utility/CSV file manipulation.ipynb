{
 "cells": [
  {
   "cell_type": "code",
   "execution_count": 8,
   "id": "099bd69f",
   "metadata": {},
   "outputs": [],
   "source": [
    "# Necessary Library Calls\n",
    "import nibabel as nib\n",
    "import numpy as np\n",
    "import pandas as pd\n",
    "import os\n",
    "import matplotlib.pyplot as plt\n",
    "from skimage.util import montage \n",
    "from skimage.transform import rotate\n",
    "from sklearn.model_selection import train_test_split as ttt\n",
    "import torch\n",
    "import torch.nn as nn \n",
    "import torch.nn.functional as F\n",
    "from torch.utils.data import Dataset, DataLoader\n",
    "import torch.optim as optim\n",
    "from tqdm import tqdm\n",
    "from pylab import *\n",
    "import gc\n",
    "import torchmetrics "
   ]
  },
  {
   "cell_type": "code",
   "execution_count": 9,
   "id": "3839bb1e",
   "metadata": {},
   "outputs": [],
   "source": [
    "CSV1= 'data/MICCAI_BraTS_2019_Data_Training/all_patients.csv'\n",
    "CSV2= 'data/MICCAI_BraTS_2019_Data_Training/survival_data.csv'"
   ]
  },
  {
   "cell_type": "code",
   "execution_count": 10,
   "id": "219bcda4",
   "metadata": {},
   "outputs": [],
   "source": [
    "c1=pd.read_csv(CSV1)\n",
    "c2=pd.read_csv(CSV2)"
   ]
  },
  {
   "cell_type": "markdown",
   "id": "2ba5362b",
   "metadata": {},
   "source": [
    "c3 = c1.merge(c2,on='BraTS19ID',how ='left')\n",
    "print(c3)"
   ]
  },
  {
   "cell_type": "code",
   "execution_count": 12,
   "id": "e4e3a756",
   "metadata": {},
   "outputs": [
    {
     "name": "stdout",
     "output_type": "stream",
     "text": [
      "    Type             BraTS19ID        Age  Survival ResectionStatus\n",
      "0    HGG   BraTS19_CBICA_AXQ_1  66.282192     114.0             GTR\n",
      "1    HGG   BraTS19_CBICA_AXW_1  79.210959     191.0             GTR\n",
      "2    HGG   BraTS19_CBICA_AYA_1  74.835616      50.0             GTR\n",
      "3    HGG   BraTS19_CBICA_AYI_1  65.920548     387.0             GTR\n",
      "4    HGG   BraTS19_CBICA_AYU_1  63.780822      58.0             GTR\n",
      "..   ...                   ...        ...       ...             ...\n",
      "255  LGG  BraTS19_TCIA13_621_1  60.330396       NaN             NaN\n",
      "256  LGG  BraTS19_TCIA13_653_1  60.330396       NaN             NaN\n",
      "257  LGG  BraTS19_TCIA13_642_1  60.330396       NaN             NaN\n",
      "258  LGG  BraTS19_TCIA13_624_1  60.330396       NaN             NaN\n",
      "259  LGG  BraTS19_TCIA13_634_1  60.330396       NaN             NaN\n",
      "\n",
      "[260 rows x 5 columns]\n"
     ]
    }
   ],
   "source": [
    "c3 = c1.merge(c2,on='BraTS19ID',how ='left')\n",
    "c3['Age'].fillna(value=c3['Age'].mean(),inplace=True)\n",
    "print(c3)"
   ]
  },
  {
   "cell_type": "code",
   "execution_count": 14,
   "id": "edc46ba1",
   "metadata": {},
   "outputs": [],
   "source": [
    "me = c3['Survival'].mean()\n"
   ]
  },
  {
   "cell_type": "code",
   "execution_count": 15,
   "id": "ae63abeb",
   "metadata": {},
   "outputs": [
    {
     "name": "stdout",
     "output_type": "stream",
     "text": [
      "    Type             BraTS19ID        Age    Survival ResectionStatus\n",
      "0    HGG   BraTS19_CBICA_AXQ_1  66.282192  114.000000             GTR\n",
      "1    HGG   BraTS19_CBICA_AXW_1  79.210959  191.000000             GTR\n",
      "2    HGG   BraTS19_CBICA_AYA_1  74.835616   50.000000             GTR\n",
      "3    HGG   BraTS19_CBICA_AYI_1  65.920548  387.000000             GTR\n",
      "4    HGG   BraTS19_CBICA_AYU_1  63.780822   58.000000             GTR\n",
      "..   ...                   ...        ...         ...             ...\n",
      "255  LGG  BraTS19_TCIA13_621_1  60.330396  442.051095             NaN\n",
      "256  LGG  BraTS19_TCIA13_653_1  60.330396  442.051095             NaN\n",
      "257  LGG  BraTS19_TCIA13_642_1  60.330396  442.051095             NaN\n",
      "258  LGG  BraTS19_TCIA13_624_1  60.330396  442.051095             NaN\n",
      "259  LGG  BraTS19_TCIA13_634_1  60.330396  442.051095             NaN\n",
      "\n",
      "[260 rows x 5 columns]\n"
     ]
    }
   ],
   "source": [
    "\n",
    "c3['Survival'].fillna(value=me,inplace=True)\n",
    "print(c3)"
   ]
  },
  {
   "cell_type": "code",
   "execution_count": 18,
   "id": "c2180d60",
   "metadata": {},
   "outputs": [
    {
     "name": "stdout",
     "output_type": "stream",
     "text": [
      "    Type             BraTS19ID        Age    Survival ResectionStatus\n",
      "0    HGG   BraTS19_CBICA_AXQ_1  66.282192  114.000000               1\n",
      "1    HGG   BraTS19_CBICA_AXW_1  79.210959  191.000000               1\n",
      "2    HGG   BraTS19_CBICA_AYA_1  74.835616   50.000000               1\n",
      "3    HGG   BraTS19_CBICA_AYI_1  65.920548  387.000000               1\n",
      "4    HGG   BraTS19_CBICA_AYU_1  63.780822   58.000000               1\n",
      "..   ...                   ...        ...         ...             ...\n",
      "255  LGG  BraTS19_TCIA13_621_1  60.330396  442.051095               0\n",
      "256  LGG  BraTS19_TCIA13_653_1  60.330396  442.051095               0\n",
      "257  LGG  BraTS19_TCIA13_642_1  60.330396  442.051095               0\n",
      "258  LGG  BraTS19_TCIA13_624_1  60.330396  442.051095               0\n",
      "259  LGG  BraTS19_TCIA13_634_1  60.330396  442.051095               0\n",
      "\n",
      "[260 rows x 5 columns]\n"
     ]
    }
   ],
   "source": [
    "c3['ResectionStatus'].fillna(value=0,inplace=True)\n",
    "c3['ResectionStatus'].replace(to_replace='GTR',value = 1,inplace=True)\n",
    "print(c3)"
   ]
  },
  {
   "cell_type": "code",
   "execution_count": 19,
   "id": "83e2cd7e",
   "metadata": {},
   "outputs": [],
   "source": [
    "c3.to_csv('new.csv')"
   ]
  },
  {
   "cell_type": "code",
   "execution_count": null,
   "id": "03165f93",
   "metadata": {},
   "outputs": [],
   "source": []
  }
 ],
 "metadata": {
  "kernelspec": {
   "display_name": "Python 3 (ipykernel)",
   "language": "python",
   "name": "python3"
  },
  "language_info": {
   "codemirror_mode": {
    "name": "ipython",
    "version": 3
   },
   "file_extension": ".py",
   "mimetype": "text/x-python",
   "name": "python",
   "nbconvert_exporter": "python",
   "pygments_lexer": "ipython3",
   "version": "3.9.13"
  }
 },
 "nbformat": 4,
 "nbformat_minor": 5
}
