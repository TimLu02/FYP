{
 "cells": [
  {
   "cell_type": "code",
   "execution_count": 44,
   "id": "ea9b3574",
   "metadata": {},
   "outputs": [],
   "source": [
    "import numpy as np\n",
    "import pandas as pd\n",
    "import statistics as ss\n",
    "import matplotlib.pyplot as plt\n",
    "from sklearn.model_selection import train_test_split as ttt\n",
    "from sklearn.metrics import accuracy_score as AS\n",
    "from sklearn.metrics import mean_squared_error\n",
    "from sklearn.svm import SVC\n",
    "from sklearn.tree import DecisionTreeClassifier as DT\n",
    "from sklearn.neighbors import KNeighborsClassifier as KNN\n",
    "from sklearn.ensemble import RandomForestClassifier"
   ]
  },
  {
   "cell_type": "code",
   "execution_count": 30,
   "id": "2d34e25a",
   "metadata": {},
   "outputs": [],
   "source": [
    "# Load training cvs data into the program.\n",
    "train=pd.read_csv('data/MICCAI_BraTS_2019_Data_Training/new.csv')\n",
    "\n",
    "\n",
    "X= train[['Age']]\n",
    "Y= train['Survival']\n",
    "# Split training and testing data with a 3 to 1 ratio, with random_state=6 to create reproducible results. \n",
    "X_train,X_test,Y_train,Y_test=ttt(X,Y,random_state=6)\n"
   ]
  },
  {
   "cell_type": "code",
   "execution_count": 31,
   "id": "e065324a",
   "metadata": {},
   "outputs": [],
   "source": [
    "# class definitions \n",
    "Class = []\n",
    "for i in range(len(Y)):\n",
    "    if Y[i]<300:\n",
    "        Class.append(0)\n",
    "    elif Y[i]<450:\n",
    "        Class.append(1)\n",
    "    else:\n",
    "        Class.append(2)\n",
    "              \n",
    "        \n",
    "\n"
   ]
  },
  {
   "cell_type": "code",
   "execution_count": 32,
   "id": "9a8bd316",
   "metadata": {},
   "outputs": [
    {
     "data": {
      "text/plain": [
       "'\\nSklearn Regression models\\n'"
      ]
     },
     "execution_count": 32,
     "metadata": {},
     "output_type": "execute_result"
    }
   ],
   "source": [
    "\"\"\"\n",
    "Sklearn Regression models\n",
    "\"\"\""
   ]
  },
  {
   "cell_type": "code",
   "execution_count": 33,
   "id": "a3cc53e1",
   "metadata": {},
   "outputs": [
    {
     "data": {
      "text/plain": [
       "113255.784716608"
      ]
     },
     "execution_count": 33,
     "metadata": {},
     "output_type": "execute_result"
    }
   ],
   "source": [
    "# Poisson Regressor\n",
    "\n",
    "pr_1=PR().fit(X_train, Y_train)\n",
    "Y_predict=pr_1.predict(X_test)\n",
    "mean_squared_error(Y_predict, Y_test)\n",
    "\n"
   ]
  },
  {
   "cell_type": "code",
   "execution_count": 34,
   "id": "ef423c3b",
   "metadata": {},
   "outputs": [
    {
     "data": {
      "text/plain": [
       "131245.206262419"
      ]
     },
     "execution_count": 34,
     "metadata": {},
     "output_type": "execute_result"
    }
   ],
   "source": [
    "# Random Forest Regression model \n",
    "rfr_1=RFR(n_estimators = 100).fit(X_train, Y_train)\n",
    "Y_predict=rfr_1.predict(X_test)\n",
    "mean_squared_error(Y_predict, Y_test)"
   ]
  },
  {
   "cell_type": "code",
   "execution_count": 35,
   "id": "83f28d38",
   "metadata": {},
   "outputs": [
    {
     "data": {
      "text/plain": [
       "163606.4020156516"
      ]
     },
     "execution_count": 35,
     "metadata": {},
     "output_type": "execute_result"
    }
   ],
   "source": [
    "# Extra Decision Tree Regression model\n",
    "edt_1=ETR(n_estimators = 100).fit(X_train, Y_train)\n",
    "Y_predict=edt_1.predict(X_test)\n",
    "mean_squared_error(Y_predict, Y_test)"
   ]
  },
  {
   "cell_type": "code",
   "execution_count": 36,
   "id": "a064acf6",
   "metadata": {},
   "outputs": [
    {
     "data": {
      "text/plain": [
       "107362.40334433202"
      ]
     },
     "execution_count": 36,
     "metadata": {},
     "output_type": "execute_result"
    }
   ],
   "source": [
    "# Kneighbors regression\n",
    "knr_1 = KNR(n_neighbors=100).fit(X_train,Y_train)\n",
    "Y_predict =knr_1.predict(X_test)\n",
    "mean_squared_error(Y_predict, Y_test)"
   ]
  },
  {
   "cell_type": "code",
   "execution_count": 37,
   "id": "1fa57022",
   "metadata": {},
   "outputs": [
    {
     "data": {
      "text/plain": [
       "107327.66640103178"
      ]
     },
     "execution_count": 37,
     "metadata": {},
     "output_type": "execute_result"
    }
   ],
   "source": [
    "# Voting regression\n",
    "c1= KNR(n_neighbors=100)\n",
    "c2= LIR()\n",
    "\n",
    "vr1=VR([('knr', c1), ('lir3', c2)])\n",
    "vr1.fit(X_train,Y_train)\n",
    "Y_predict =vr1.predict(X_test)\n",
    "mean_squared_error(Y_predict, Y_test)"
   ]
  },
  {
   "cell_type": "code",
   "execution_count": 38,
   "id": "05eb76fc",
   "metadata": {},
   "outputs": [
    {
     "data": {
      "text/plain": [
       "'\\n\\nSklearn Classification\\n\\n'"
      ]
     },
     "execution_count": 38,
     "metadata": {},
     "output_type": "execute_result"
    }
   ],
   "source": [
    "\"\"\"\n",
    "\n",
    "Sklearn Classification\n",
    "\n",
    "\"\"\""
   ]
  },
  {
   "cell_type": "code",
   "execution_count": 39,
   "id": "84ce57c3",
   "metadata": {},
   "outputs": [],
   "source": [
    "X_train,X_test,Y_train,Y_test=ttt(X,Class,random_state=6)"
   ]
  },
  {
   "cell_type": "code",
   "execution_count": 40,
   "id": "4529a75c",
   "metadata": {},
   "outputs": [
    {
     "data": {
      "text/plain": [
       "0.5652173913043478"
      ]
     },
     "execution_count": 40,
     "metadata": {},
     "output_type": "execute_result"
    }
   ],
   "source": [
    "# RidgeClassifier\n",
    "from sklearn.linear_model import RidgeClassifier\n",
    "clf = RidgeClassifier().fit(X_train, Y_train)\n",
    "clf.score(X_test,Y_test)"
   ]
  },
  {
   "cell_type": "code",
   "execution_count": 41,
   "id": "f3c44d26",
   "metadata": {},
   "outputs": [
    {
     "data": {
      "text/plain": [
       "0.5652173913043478"
      ]
     },
     "execution_count": 41,
     "metadata": {},
     "output_type": "execute_result"
    }
   ],
   "source": [
    "# SVC with linear kernel\n",
    "clf = SVC(kernel='linear')\n",
    "clf.fit(X_train,Y_train)\n",
    "pred=clf.predict(X_test)\n",
    "AS(pred,Y_test)"
   ]
  },
  {
   "cell_type": "code",
   "execution_count": 42,
   "id": "1bec28cb",
   "metadata": {},
   "outputs": [
    {
     "data": {
      "text/plain": [
       "0.5"
      ]
     },
     "execution_count": 42,
     "metadata": {},
     "output_type": "execute_result"
    }
   ],
   "source": [
    "# Decision Tree\n",
    "clf = DT()\n",
    "clf.fit(X_train,Y_train)\n",
    "pred=clf.predict(X_test)\n",
    "AS(pred,Y_test)\n"
   ]
  },
  {
   "cell_type": "code",
   "execution_count": 43,
   "id": "c70c8063",
   "metadata": {},
   "outputs": [
    {
     "data": {
      "text/plain": [
       "0.5869565217391305"
      ]
     },
     "execution_count": 43,
     "metadata": {},
     "output_type": "execute_result"
    }
   ],
   "source": [
    "# KNN \n",
    "\n",
    "clf = KNN(n_neighbors=10)\n",
    "clf.fit(X_train,Y_train)\n",
    "pred=clf.predict(X_test)\n",
    "AS(pred,Y_test)\n"
   ]
  },
  {
   "cell_type": "code",
   "execution_count": 56,
   "id": "b48dee02",
   "metadata": {},
   "outputs": [
    {
     "data": {
      "text/plain": [
       "0.5652173913043478"
      ]
     },
     "execution_count": 56,
     "metadata": {},
     "output_type": "execute_result"
    }
   ],
   "source": [
    "# random forest ensemble method\n",
    "clf = RandomForestClassifier(max_depth=2, random_state=0)\n",
    "clf.fit(X_train,Y_train)\n",
    "pred=clf.predict(X_test)\n",
    "AS(pred,Y_test)\n",
    "\n",
    "\n",
    "\n"
   ]
  },
  {
   "cell_type": "code",
   "execution_count": null,
   "id": "10e5e505",
   "metadata": {},
   "outputs": [],
   "source": []
  }
 ],
 "metadata": {
  "kernelspec": {
   "display_name": "FYP",
   "language": "python",
   "name": "fyp"
  },
  "language_info": {
   "codemirror_mode": {
    "name": "ipython",
    "version": 3
   },
   "file_extension": ".py",
   "mimetype": "text/x-python",
   "name": "python",
   "nbconvert_exporter": "python",
   "pygments_lexer": "ipython3",
   "version": "3.7.16"
  }
 },
 "nbformat": 4,
 "nbformat_minor": 5
}
