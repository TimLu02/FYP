{
 "cells": [
  {
   "cell_type": "code",
   "execution_count": 2,
   "id": "ea9b3574",
   "metadata": {},
   "outputs": [],
   "source": [
    "import numpy as np\n",
    "import pandas as pd\n",
    "import statistics as ss\n",
    "import matplotlib.pyplot as plt\n",
    "from sklearn.model_selection import train_test_split as ttt\n",
    "from sklearn.metrics import accuracy_score as AS\n",
    "from sklearn.metrics import mean_squared_error, make_scorer\n",
    "from sklearn.svm import SVC, SVR\n",
    "from sklearn.tree import DecisionTreeClassifier as DT\n",
    "from sklearn.neighbors import KNeighborsClassifier as KNN\n",
    "from sklearn.ensemble import RandomForestClassifier \n",
    "from sklearn.model_selection import cross_val_score\n",
    "\n",
    "from sklearn.ensemble import RandomForestRegressor as RFR\n",
    "from sklearn.ensemble import ExtraTreesRegressor as ETR\n",
    "from sklearn.neighbors import KNeighborsRegressor as KNR\n",
    "from sklearn.linear_model import LinearRegression"
   ]
  },
  {
   "cell_type": "code",
   "execution_count": 3,
   "id": "2d34e25a",
   "metadata": {},
   "outputs": [],
   "source": [
    "# Load training cvs data into the program.\n",
    "train=pd.read_csv('data/MICCAI_BraTS_2019_Data_Training/new.csv')\n",
    "\n",
    "\n",
    "X= train[['Age']]\n",
    "Y= train['Survival']\n",
    "# Split training and testing data with a 3 to 1 ratio, with random_state=6 to create reproducible results. \n",
    "X_train,X_test,Y_train,Y_test=ttt(X,Y,random_state=6)\n"
   ]
  },
  {
   "cell_type": "code",
   "execution_count": 4,
   "id": "e065324a",
   "metadata": {},
   "outputs": [],
   "source": [
    "# class definitions \n",
    "Class = []\n",
    "for i in range(len(Y)):\n",
    "    if Y[i]<300:\n",
    "        Class.append(0)\n",
    "    elif Y[i]<450:\n",
    "        Class.append(1)\n",
    "    else:\n",
    "        Class.append(2)\n",
    "              \n",
    "        \n",
    "\n"
   ]
  },
  {
   "cell_type": "code",
   "execution_count": 5,
   "id": "9a8bd316",
   "metadata": {},
   "outputs": [
    {
     "data": {
      "text/plain": [
       "'\\nSklearn Regression models\\n'"
      ]
     },
     "execution_count": 5,
     "metadata": {},
     "output_type": "execute_result"
    }
   ],
   "source": [
    "\"\"\"\n",
    "Sklearn Regression models\n",
    "\"\"\""
   ]
  },
  {
   "cell_type": "code",
   "execution_count": 7,
   "id": "38408585",
   "metadata": {},
   "outputs": [
    {
     "name": "stdout",
     "output_type": "stream",
     "text": [
      "MSE is:  90130.66001520949  with a standard deviation of  33985.72191309975\n"
     ]
    }
   ],
   "source": [
    "# simple linear regression\n",
    "clf=LinearRegression()\n",
    "s=0\n",
    "std=0\n",
    "for i in range(50):\n",
    "    scores=cross_val_score(clf,X,Y,scoring=make_scorer(mean_squared_error),cv=5)\n",
    "    s+=scores.mean()\n",
    "    std+=scores.std()\n",
    "print(\"MSE is: \",s/50,\" with a standard deviation of \",std/50)\n"
   ]
  },
  {
   "cell_type": "code",
   "execution_count": 8,
   "id": "a3cc53e1",
   "metadata": {},
   "outputs": [
    {
     "name": "stdout",
     "output_type": "stream",
     "text": [
      "MSE is:  104645.5877176619  with a standard deviation of  33144.26501176361\n"
     ]
    }
   ],
   "source": [
    "# Random Forest Regression model \n",
    "\n",
    "clf=RFR(n_estimators = 100)\n",
    "s=0\n",
    "std=0\n",
    "for i in range(50):\n",
    "    scores=cross_val_score(clf,X,Y,scoring=make_scorer(mean_squared_error),cv=5)\n",
    "    s+=scores.mean()\n",
    "    std+=scores.std()\n",
    "print(\"MSE is: \",s/50,\" with a standard deviation of \",std/50)\n"
   ]
  },
  {
   "cell_type": "code",
   "execution_count": 9,
   "id": "83f28d38",
   "metadata": {},
   "outputs": [
    {
     "name": "stdout",
     "output_type": "stream",
     "text": [
      "MSE is:  118075.95910454167  with a standard deviation of  44690.81064801949\n"
     ]
    }
   ],
   "source": [
    "# Extra Decision Tree Regression model\n",
    "clf=ETR(n_estimators = 100)\n",
    "s=0\n",
    "std=0\n",
    "for i in range(50):\n",
    "    scores=cross_val_score(clf,X,Y,scoring=make_scorer(mean_squared_error),cv=5)\n",
    "    s+=scores.mean()\n",
    "    std+=scores.std()\n",
    "print(\"MSE is: \",s/50,\" with a standard deviation of \",std/50)"
   ]
  },
  {
   "cell_type": "code",
   "execution_count": 10,
   "id": "c44c841a",
   "metadata": {},
   "outputs": [
    {
     "name": "stdout",
     "output_type": "stream",
     "text": [
      "MSE is:  89277.04168579023  with a standard deviation of  33688.68894100787\n"
     ]
    }
   ],
   "source": [
    "# SVR model\n",
    "clf =SVR(kernel='poly')\n",
    "s=0\n",
    "std=0\n",
    "for i in range(50):\n",
    "    scores=cross_val_score(clf,X,Y,scoring=make_scorer(mean_squared_error),cv=5)\n",
    "    s+=scores.mean()\n",
    "    std+=scores.std()\n",
    "print(\"MSE is: \",s/50,\" with a standard deviation of \",std/50)"
   ]
  },
  {
   "cell_type": "code",
   "execution_count": 11,
   "id": "a064acf6",
   "metadata": {},
   "outputs": [
    {
     "name": "stdout",
     "output_type": "stream",
     "text": [
      "MSE is:  83891.45535129168  with a standard deviation of  35735.96358041332\n"
     ]
    }
   ],
   "source": [
    "# Kneighbors regression\n",
    "clf = KNR(n_neighbors=20)\n",
    "s=0\n",
    "std=0\n",
    "for i in range(50):\n",
    "    scores=cross_val_score(clf,X,Y,scoring=make_scorer(mean_squared_error),cv=5)\n",
    "    s+=scores.mean()\n",
    "    std+=scores.std()\n",
    "print(\"MSE is: \",s/50,\" with a standard deviation of \",std/50)"
   ]
  },
  {
   "cell_type": "code",
   "execution_count": 38,
   "id": "05eb76fc",
   "metadata": {},
   "outputs": [
    {
     "data": {
      "text/plain": [
       "'\\n\\nSklearn Classification\\n\\n'"
      ]
     },
     "execution_count": 38,
     "metadata": {},
     "output_type": "execute_result"
    }
   ],
   "source": [
    "\"\"\"\n",
    "\n",
    "Sklearn Classification\n",
    "\n",
    "\"\"\""
   ]
  },
  {
   "cell_type": "code",
   "execution_count": 18,
   "id": "4529a75c",
   "metadata": {},
   "outputs": [
    {
     "name": "stdout",
     "output_type": "stream",
     "text": [
      "Accuracy is:  0.5381381381381377 with a standard deviation of  0.07574237967776302\n"
     ]
    }
   ],
   "source": [
    "# RidgeClassifier\n",
    "from sklearn.linear_model import RidgeClassifier\n",
    "clf = RidgeClassifier()\n",
    "s=0\n",
    "std=0\n",
    "for i in range(50):\n",
    "    scores=cross_val_score(clf,X,Class,scoring='accuracy',cv=5)\n",
    "    s+=scores.mean()\n",
    "    std+=scores.std()\n",
    "print(\"Accuracy is: \",s/50, \"with a standard deviation of \",std/50)"
   ]
  },
  {
   "cell_type": "code",
   "execution_count": 19,
   "id": "f3c44d26",
   "metadata": {},
   "outputs": [
    {
     "name": "stdout",
     "output_type": "stream",
     "text": [
      "Accuracy is:  0.5489489489489483 with a standard deviation of  0.06022200389239704\n"
     ]
    }
   ],
   "source": [
    "# SVC with linear kernel\n",
    "clf = SVC(kernel='linear')\n",
    "s=0\n",
    "std=0\n",
    "for i in range(50):\n",
    "    scores=cross_val_score(clf,X,Class,scoring='accuracy',cv=5)\n",
    "    s+=scores.mean()\n",
    "    std+=scores.std()\n",
    "print(\"Accuracy is: \",s/50, \"with a standard deviation of \",std/50)"
   ]
  },
  {
   "cell_type": "code",
   "execution_count": 21,
   "id": "1bec28cb",
   "metadata": {},
   "outputs": [
    {
     "name": "stdout",
     "output_type": "stream",
     "text": [
      "Accuracy is:  0.4993993993993999 with a standard deviation of  0.09811872880648345\n"
     ]
    }
   ],
   "source": [
    "# Decision Tree\n",
    "clf = DT(max_depth=20)\n",
    "s=0\n",
    "std=0\n",
    "for i in range(50):\n",
    "    scores=cross_val_score(clf,X,Class,scoring='accuracy',cv=5)\n",
    "    s+=scores.mean()\n",
    "    std+=scores.std()\n",
    "print(\"Accuracy is: \",s/50, \"with a standard deviation of \",std/50)"
   ]
  },
  {
   "cell_type": "code",
   "execution_count": 57,
   "id": "c70c8063",
   "metadata": {},
   "outputs": [
    {
     "name": "stdout",
     "output_type": "stream",
     "text": [
      "Accuracy is:  0.5507936507936508  with a standard deviation of  0.19708124692277787\n"
     ]
    }
   ],
   "source": [
    "# KNN \n",
    "\n",
    "clf = KNN(n_neighbors=20)\n",
    "s=0\n",
    "std=0\n",
    "for i in range(50):\n",
    "    scores=cross_val_score(clf,X,Class,scoring='accuracy',cv=30)\n",
    "    s+=scores.mean()\n",
    "    std+=scores.std()\n",
    "print(\"Accuracy is: \",s/50, \"with a standard deviation of \",std/50)"
   ]
  },
  {
   "cell_type": "code",
   "execution_count": 59,
   "id": "b48dee02",
   "metadata": {},
   "outputs": [
    {
     "name": "stdout",
     "output_type": "stream",
     "text": [
      "Accuracy is:  0.5444444444444445  with a standard deviation of  0.15092725910498173\n"
     ]
    }
   ],
   "source": [
    "# random forest ensemble method\n",
    "clf = RandomForestClassifier(max_depth=5, random_state=0)\n",
    "scores=cross_val_score(clf,X,Class,scoring='accuracy',cv=30)\n",
    "\n",
    "print(\"Accuracy is: \",scores.mean(),\" with a standard deviation of \",scores.std())\n",
    "\n",
    "\n"
   ]
  },
  {
   "cell_type": "code",
   "execution_count": null,
   "id": "10e5e505",
   "metadata": {},
   "outputs": [],
   "source": []
  }
 ],
 "metadata": {
  "kernelspec": {
   "display_name": "FYP",
   "language": "python",
   "name": "fyp"
  },
  "language_info": {
   "codemirror_mode": {
    "name": "ipython",
    "version": 3
   },
   "file_extension": ".py",
   "mimetype": "text/x-python",
   "name": "python",
   "nbconvert_exporter": "python",
   "pygments_lexer": "ipython3",
   "version": "3.7.16"
  }
 },
 "nbformat": 4,
 "nbformat_minor": 5
}
