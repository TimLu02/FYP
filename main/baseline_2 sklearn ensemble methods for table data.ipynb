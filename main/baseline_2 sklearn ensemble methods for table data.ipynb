{
 "cells": [
  {
   "cell_type": "code",
   "execution_count": 1,
   "id": "ea9b3574",
   "metadata": {},
   "outputs": [],
   "source": [
    "import numpy as np\n",
    "import pandas as pd\n",
    "import statistics as ss\n",
    "import matplotlib.pyplot as plt\n",
    "from sklearn.model_selection import train_test_split as ttt\n",
    "from sklearn.discriminant_analysis import LinearDiscriminantAnalysis as LDA\n",
    "from sklearn.metrics import accuracy_score as AS\n",
    "from sklearn.linear_model import LogisticRegression as LR\n",
    "from sklearn.linear_model import LinearRegression as LIR\n",
    "from sklearn.svm import SVC\n",
    "from sklearn.tree import DecisionTreeClassifier as DT\n",
    "from sklearn.naive_bayes import GaussianNB as NB\n",
    "from sklearn.naive_bayes import ComplementNB as CNB\n",
    "from sklearn.naive_bayes import MultinomialNB as MNB\n",
    "from sklearn.naive_bayes import BernoulliNB as BNB\n",
    "from sklearn.neighbors import KNeighborsClassifier as KNN\n",
    "from sklearn.ensemble import VotingRegressor as VR\n",
    "from sklearn.multioutput import MultiOutputRegressor as MR\n",
    "from sklearn.ensemble import RandomForestRegressor as RFR\n",
    "from sklearn.neighbors import KNeighborsRegressor as KNR\n",
    "from sklearn.ensemble import ExtraTreesRegressor as ETR\n",
    "from sklearn.linear_model import PoissonRegressor as PR"
   ]
  },
  {
   "cell_type": "code",
   "execution_count": 4,
   "id": "2d34e25a",
   "metadata": {},
   "outputs": [],
   "source": [
    "# Load training cvs data into the program.\n",
    "train=pd.read_csv(\"data/survival_data.csv\")\n",
    "\n",
    "# Perform feature reduction to discard any irrelevent data feature, namely 'ResectionStatus'.\n",
    "#We proceed by discarding columns mentioned above from the dataframe.\n",
    "train=train.drop(['ResectionStatus'],axis=1)\n",
    "\n",
    "# drop rows contain NA value from the data \n",
    "train = train.dropna(subset=['Survival'])\n",
    "\n",
    "X= train[['Age']]\n",
    "Y= train['Survival']\n",
    "# Split training and testing data with a 3 to 1 ratio, with random_state=6 to create reproducible results. \n",
    "X_train,X_test,Y_train,Y_test=ttt(X,Y,random_state=6)\n"
   ]
  },
  {
   "cell_type": "code",
   "execution_count": 5,
   "id": "f9ae7fa4",
   "metadata": {},
   "outputs": [
    {
     "data": {
      "text/plain": [
       "-0.29171191708759214"
      ]
     },
     "execution_count": 5,
     "metadata": {},
     "output_type": "execute_result"
    }
   ],
   "source": [
    "# Simple Linear Regression model \n",
    "linear_1=LIR().fit(X_train, Y_train)\n",
    "Y_predict=linear_1.predict(X_test)\n",
    "linear_1.score(X_test,Y_test)"
   ]
  },
  {
   "cell_type": "code",
   "execution_count": 6,
   "id": "e8c519c8",
   "metadata": {},
   "outputs": [
    {
     "data": {
      "text/plain": [
       "0.018867924528301886"
      ]
     },
     "execution_count": 6,
     "metadata": {},
     "output_type": "execute_result"
    }
   ],
   "source": [
    "# Simple Log Regression model\n",
    "lr_1=LR(penalty='l1',solver='liblinear').fit(X_train, Y_train)\n",
    "Y_predict=lr_1.predict(X_test)\n",
    "lr_1.score(X_test,Y_test)"
   ]
  },
  {
   "cell_type": "code",
   "execution_count": 7,
   "id": "a3cc53e1",
   "metadata": {},
   "outputs": [
    {
     "data": {
      "text/plain": [
       "-0.19088546960196773"
      ]
     },
     "execution_count": 7,
     "metadata": {},
     "output_type": "execute_result"
    }
   ],
   "source": [
    "# Poisson Regressor\n",
    "\n",
    "pr_1=PR().fit(X_train, Y_train)\n",
    "Y_predict=pr_1.predict(X_test)\n",
    "pr_1.score(X_test,Y_test)\n",
    "\n"
   ]
  },
  {
   "cell_type": "code",
   "execution_count": 150,
   "id": "ef423c3b",
   "metadata": {},
   "outputs": [
    {
     "data": {
      "text/plain": [
       "-0.5141219753806316"
      ]
     },
     "execution_count": 150,
     "metadata": {},
     "output_type": "execute_result"
    }
   ],
   "source": [
    "# Random Forest Regression model \n",
    "rfr_1=RFR(n_estimators = 100).fit(X_train, Y_train)\n",
    "Y_predict=rfr_1.predict(X_test)\n",
    "rfr_1.score(X_test,Y_test)"
   ]
  },
  {
   "cell_type": "code",
   "execution_count": 151,
   "id": "83f28d38",
   "metadata": {},
   "outputs": [
    {
     "data": {
      "text/plain": [
       "-1.15956967370363"
      ]
     },
     "execution_count": 151,
     "metadata": {},
     "output_type": "execute_result"
    }
   ],
   "source": [
    "# Extra Decision Tree Regression model\n",
    "edt_1=ETR(n_estimators = 100).fit(X_train, Y_train)\n",
    "Y_predict=edt_1.predict(X_test)\n",
    "edt_1.score(X_test,Y_test)"
   ]
  },
  {
   "cell_type": "code",
   "execution_count": 152,
   "id": "a064acf6",
   "metadata": {},
   "outputs": [
    {
     "data": {
      "text/plain": [
       "-0.10996694658403228"
      ]
     },
     "execution_count": 152,
     "metadata": {},
     "output_type": "execute_result"
    }
   ],
   "source": [
    "# Kneighbors regression\n",
    "knr_1 = KNR(n_neighbors=100).fit(X_train,Y_train)\n",
    "Y_predict =knr_1.predict(X_test)\n",
    "knr_1.score(X_test,Y_test)"
   ]
  },
  {
   "cell_type": "code",
   "execution_count": 165,
   "id": "1fa57022",
   "metadata": {},
   "outputs": [
    {
     "data": {
      "text/plain": [
       "-0.16876234380006694"
      ]
     },
     "execution_count": 165,
     "metadata": {},
     "output_type": "execute_result"
    }
   ],
   "source": [
    "# Voting regression\n",
    "c1= KNR(n_neighbors=100)\n",
    "c2= LIR()\n",
    "\n",
    "vr1=VR([('knr', c1), ('lir3', c2)])\n",
    "vr1.fit(X_train,Y_train)\n",
    "Y_predict =vr1.predict(X_test)\n",
    "vr1.score(X_test,Y_test)"
   ]
  },
  {
   "cell_type": "code",
   "execution_count": null,
   "id": "05eb76fc",
   "metadata": {},
   "outputs": [],
   "source": [
    "# Include 'Resection Status'"
   ]
  },
  {
   "cell_type": "code",
   "execution_count": 8,
   "id": "1fd7b8ef",
   "metadata": {},
   "outputs": [],
   "source": [
    "# Load training cvs data into the program.\n",
    "train=pd.read_csv(\"data/survival_data.csv\")\n",
    "\n",
    "# drop rows contain NA value from the data \n",
    "train = train.dropna(subset=['Survival','ResectionStatus'])\n",
    "\n",
    "#Convert column 'ResectionStatus' into integers with 'GTR' = 0 and 'STR'= 1.\n",
    "dict={'GTR':0, 'STR':1}\n",
    "train['ResectionStatus']=train['ResectionStatus'].apply(lambda x:dict[x])\n",
    "\n",
    "X= train[['Age','ResectionStatus']]\n",
    "Y= train['Survival']\n",
    "# Split training and testing data with a 3 to 1 ratio, with random_state=6 to create reproducible results. \n",
    "X_train,X_test,Y_train,Y_test=ttt(X,Y,random_state=6)\n",
    "\n",
    "\n",
    "\n",
    "\n"
   ]
  },
  {
   "cell_type": "code",
   "execution_count": 9,
   "id": "4529a75c",
   "metadata": {},
   "outputs": [
    {
     "data": {
      "text/plain": [
       "0.2823826356873531"
      ]
     },
     "execution_count": 9,
     "metadata": {},
     "output_type": "execute_result"
    }
   ],
   "source": [
    "# Simple Linear Regression model \n",
    "linear_1=LIR().fit(X_train, Y_train)\n",
    "Y_predict=linear_1.predict(X_test)\n",
    "linear_1.score(X_test,Y_test)"
   ]
  },
  {
   "cell_type": "code",
   "execution_count": 10,
   "id": "f3c44d26",
   "metadata": {},
   "outputs": [
    {
     "name": "stderr",
     "output_type": "stream",
     "text": [
      "C:\\Users\\timlu\\anaconda3\\lib\\site-packages\\sklearn\\linear_model\\_logistic.py:814: ConvergenceWarning: lbfgs failed to converge (status=1):\n",
      "STOP: TOTAL NO. of ITERATIONS REACHED LIMIT.\n",
      "\n",
      "Increase the number of iterations (max_iter) or scale the data as shown in:\n",
      "    https://scikit-learn.org/stable/modules/preprocessing.html\n",
      "Please also refer to the documentation for alternative solver options:\n",
      "    https://scikit-learn.org/stable/modules/linear_model.html#logistic-regression\n",
      "  n_iter_i = _check_optimize_result(\n"
     ]
    },
    {
     "data": {
      "text/plain": [
       "0.0"
      ]
     },
     "execution_count": 10,
     "metadata": {},
     "output_type": "execute_result"
    }
   ],
   "source": [
    "# Simple Log Regression model\n",
    "lr_1=LR().fit(X_train, Y_train)\n",
    "Y_predict=lr_1.predict(X_test)\n",
    "lr_1.score(X_test,Y_test)"
   ]
  },
  {
   "cell_type": "code",
   "execution_count": 13,
   "id": "1bec28cb",
   "metadata": {},
   "outputs": [
    {
     "data": {
      "text/plain": [
       "0.3461887417343448"
      ]
     },
     "execution_count": 13,
     "metadata": {},
     "output_type": "execute_result"
    }
   ],
   "source": [
    "# Poisson Regressor\n",
    "\n",
    "pr_1=PR().fit(X_train, Y_train)\n",
    "Y_predict=pr_1.predict(X_test)\n",
    "pr_1.score(X_test,Y_test)\n"
   ]
  },
  {
   "cell_type": "code",
   "execution_count": 7,
   "id": "19777b08",
   "metadata": {},
   "outputs": [
    {
     "data": {
      "text/plain": [
       "-0.24166454211396404"
      ]
     },
     "execution_count": 7,
     "metadata": {},
     "output_type": "execute_result"
    }
   ],
   "source": [
    "# Random Forest Regression model \n",
    "rfr_1=RFR(n_estimators = 100).fit(X_train, Y_train)\n",
    "Y_predict=rfr_1.predict(X_test)\n",
    "rfr_1.score(X_test,Y_test)"
   ]
  },
  {
   "cell_type": "code",
   "execution_count": 8,
   "id": "3be71290",
   "metadata": {},
   "outputs": [
    {
     "data": {
      "text/plain": [
       "-0.36484761173561675"
      ]
     },
     "execution_count": 8,
     "metadata": {},
     "output_type": "execute_result"
    }
   ],
   "source": [
    "# Extra Decision Tree Regression model\n",
    "edt_1=ETR(n_estimators = 100).fit(X_train, Y_train)\n",
    "Y_predict=edt_1.predict(X_test)\n",
    "edt_1.score(X_test,Y_test)"
   ]
  },
  {
   "cell_type": "code",
   "execution_count": 10,
   "id": "059f7940",
   "metadata": {},
   "outputs": [
    {
     "data": {
      "text/plain": [
       "0.03827240806240928"
      ]
     },
     "execution_count": 10,
     "metadata": {},
     "output_type": "execute_result"
    }
   ],
   "source": [
    "# Kneighbors regression\n",
    "knr_1 = KNR(n_neighbors=50).fit(X_train,Y_train)\n",
    "Y_predict =knr_1.predict(X_test)\n",
    "knr_1.score(X_test,Y_test)"
   ]
  },
  {
   "cell_type": "code",
   "execution_count": 12,
   "id": "8e88c49f",
   "metadata": {},
   "outputs": [
    {
     "data": {
      "text/plain": [
       "0.31132926943279904"
      ]
     },
     "execution_count": 12,
     "metadata": {},
     "output_type": "execute_result"
    }
   ],
   "source": [
    "# Voting regression\n",
    "c1= PR()\n",
    "c2= LIR()\n",
    "\n",
    "vr1=VR([('pr', c1), ('lir', c2)])\n",
    "vr1.fit(X_train,Y_train)\n",
    "Y_predict =vr1.predict(X_test)\n",
    "vr1.score(X_test,Y_test)"
   ]
  },
  {
   "cell_type": "code",
   "execution_count": null,
   "id": "698ad112",
   "metadata": {},
   "outputs": [],
   "source": [
    "# Visualization "
   ]
  }
 ],
 "metadata": {
  "kernelspec": {
   "display_name": "FYP",
   "language": "python",
   "name": "fyp"
  },
  "language_info": {
   "codemirror_mode": {
    "name": "ipython",
    "version": 3
   },
   "file_extension": ".py",
   "mimetype": "text/x-python",
   "name": "python",
   "nbconvert_exporter": "python",
   "pygments_lexer": "ipython3",
   "version": "3.7.16"
  }
 },
 "nbformat": 4,
 "nbformat_minor": 5
}
