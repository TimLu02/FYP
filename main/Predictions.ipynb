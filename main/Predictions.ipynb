{
 "cells": [
  {
   "cell_type": "code",
   "execution_count": null,
   "id": "413268f4",
   "metadata": {},
   "outputs": [],
   "source": [
    "\"\"\"\n",
    "Classifications and Regressions using features generated from the computed mask\n",
    "\n",
    "Conduct feature selection with the corresponding classificaton model\n",
    "\n",
    "Conduct featurer selection with the corresponding regression model\n",
    "\n",
    "\"\"\""
   ]
  },
  {
   "cell_type": "code",
   "execution_count": 1,
   "id": "442e0bf3",
   "metadata": {},
   "outputs": [
    {
     "name": "stderr",
     "output_type": "stream",
     "text": [
      "C:\\Users\\timlu\\anaconda3\\envs\\FYP\\lib\\site-packages\\tqdm\\auto.py:21: TqdmWarning: IProgress not found. Please update jupyter and ipywidgets. See https://ipywidgets.readthedocs.io/en/stable/user_install.html\n",
      "  from .autonotebook import tqdm as notebook_tqdm\n"
     ]
    }
   ],
   "source": [
    "# Project-wide Library calls\n",
    "import nibabel as nib\n",
    "import numpy as np\n",
    "import pandas as pd\n",
    "import os\n",
    "import matplotlib.pyplot as plt\n",
    "from skimage.util import montage \n",
    "from skimage.transform import rotate\n",
    "from sklearn.model_selection import train_test_split as ttt\n",
    "from sklearn.metrics import accuracy_score as AS\n",
    "import torch\n",
    "import torch.nn as nn \n",
    "import torch.nn.functional as F\n",
    "from torch.utils.data import Dataset, DataLoader\n",
    "import torch.optim as optim\n",
    "from tqdm import tqdm\n",
    "from pylab import *\n",
    "import gc\n",
    "import torchmetrics \n",
    "import radiomics\n",
    "from torchvision.utils import save_image\n",
    "import matplotlib.image\n",
    "import SimpleITK as sitk\n",
    "import radiomics\n",
    "\n"
   ]
  },
  {
   "cell_type": "code",
   "execution_count": 2,
   "id": "c6b98343",
   "metadata": {},
   "outputs": [],
   "source": [
    "FEAT_PATH ='log/feature_extraction/'\n",
    "tf=torch.load(FEAT_PATH+'tf.pt')\n",
    "ef=torch.load(FEAT_PATH+'ef.pt')\n",
    "ttf=torch.load(FEAT_PATH+'ttf.pt')\n",
    "\n",
    "ts=torch.load(FEAT_PATH+'ts.pt')\n",
    "es=torch.load(FEAT_PATH+'es.pt')\n",
    "tts=torch.load(FEAT_PATH+'tts.pt')\n",
    "\n",
    "tc=torch.load(FEAT_PATH+'tc.pt')\n",
    "ec=torch.load(FEAT_PATH+'ec.pt')\n",
    "ttc=torch.load(FEAT_PATH+'ttc.pt')\n",
    "\n",
    "\n",
    "\n",
    "# remove features with low variance\n",
    "from sklearn.feature_selection import VarianceThreshold\n",
    "\n",
    "sel = VarianceThreshold(threshold=5)\n",
    "tf=sel.fit_transform(tf)\n",
    "ef=sel.fit_transform(ef)\n",
    "ttf=sel.fit_transform(ttf)\n",
    "\n",
    "tf=torch.tensor(tf)\n",
    "ef=torch.tensor(ef)\n",
    "ttf=torch.tensor(ttf)\n",
    "\n",
    "# combined all data together\n",
    "F = torch.cat((tf,ef,ttf))\n",
    "\n",
    "S = torch.cat((ts,es,tts))\n",
    "\n",
    "C = torch.cat((tc,ec,ttc))"
   ]
  },
  {
   "cell_type": "code",
   "execution_count": 126,
   "id": "89290966",
   "metadata": {},
   "outputs": [
    {
     "data": {
      "text/plain": [
       "'\\n\\nClassificaton: \\n\\nPatients are divided into three classes:\\n\\nshort-term: survival days < 10 months\\nmid-term: 10 months < survival days < 15 months\\nlong-term: survival days > 15 months\\n\\n'"
      ]
     },
     "execution_count": 126,
     "metadata": {},
     "output_type": "execute_result"
    }
   ],
   "source": [
    "\n",
    "\"\"\"\n",
    "\n",
    "Classificaton: \n",
    "\n",
    "Patients are divided into three classes:\n",
    "\n",
    "short-term: survival days < 10 months\n",
    "mid-term: 10 months < survival days < 15 months\n",
    "long-term: survival days > 15 months\n",
    "\n",
    "\"\"\"\n"
   ]
  },
  {
   "cell_type": "code",
   "execution_count": 3,
   "id": "2c69a71b",
   "metadata": {},
   "outputs": [],
   "source": [
    "from sklearn.feature_selection import SelectKBest\n",
    "from sklearn.feature_selection import f_classif\n",
    "from sklearn.feature_selection import mutual_info_classif\n",
    "from sklearn.model_selection import cross_val_score\n",
    "\n",
    "\n",
    "\n",
    "\n",
    "\n"
   ]
  },
  {
   "cell_type": "code",
   "execution_count": 4,
   "id": "8f4da9a0",
   "metadata": {},
   "outputs": [
    {
     "name": "stdout",
     "output_type": "stream",
     "text": [
      "feature selected: [False False False False False False False False False False False False\n",
      " False False False False False False False False False False False False\n",
      " False False False False False False False False False False False False\n",
      " False False False False False False False False False False False  True\n",
      " False  True False False  True False False False False False False  True\n",
      " False False False False  True]\n",
      "Accuracy is:  0.43412698412698414  with a standard deviation of  0.15560616280775677\n"
     ]
    },
    {
     "name": "stderr",
     "output_type": "stream",
     "text": [
      "C:\\Users\\timlu\\anaconda3\\envs\\FYP\\lib\\site-packages\\sklearn\\linear_model\\_ridge.py:157: LinAlgWarning: Ill-conditioned matrix (rcond=5.4819e-09): result may not be accurate.\n",
      "  return linalg.solve(A, Xy, sym_pos=True, overwrite_a=True).T\n",
      "C:\\Users\\timlu\\anaconda3\\envs\\FYP\\lib\\site-packages\\sklearn\\linear_model\\_ridge.py:157: LinAlgWarning: Ill-conditioned matrix (rcond=5.51682e-09): result may not be accurate.\n",
      "  return linalg.solve(A, Xy, sym_pos=True, overwrite_a=True).T\n",
      "C:\\Users\\timlu\\anaconda3\\envs\\FYP\\lib\\site-packages\\sklearn\\linear_model\\_ridge.py:157: LinAlgWarning: Ill-conditioned matrix (rcond=6.76743e-09): result may not be accurate.\n",
      "  return linalg.solve(A, Xy, sym_pos=True, overwrite_a=True).T\n",
      "C:\\Users\\timlu\\anaconda3\\envs\\FYP\\lib\\site-packages\\sklearn\\linear_model\\_ridge.py:157: LinAlgWarning: Ill-conditioned matrix (rcond=5.54976e-09): result may not be accurate.\n",
      "  return linalg.solve(A, Xy, sym_pos=True, overwrite_a=True).T\n",
      "C:\\Users\\timlu\\anaconda3\\envs\\FYP\\lib\\site-packages\\sklearn\\linear_model\\_ridge.py:157: LinAlgWarning: Ill-conditioned matrix (rcond=5.60198e-09): result may not be accurate.\n",
      "  return linalg.solve(A, Xy, sym_pos=True, overwrite_a=True).T\n",
      "C:\\Users\\timlu\\anaconda3\\envs\\FYP\\lib\\site-packages\\sklearn\\linear_model\\_ridge.py:157: LinAlgWarning: Ill-conditioned matrix (rcond=6.69035e-09): result may not be accurate.\n",
      "  return linalg.solve(A, Xy, sym_pos=True, overwrite_a=True).T\n",
      "C:\\Users\\timlu\\anaconda3\\envs\\FYP\\lib\\site-packages\\sklearn\\linear_model\\_ridge.py:157: LinAlgWarning: Ill-conditioned matrix (rcond=5.53978e-09): result may not be accurate.\n",
      "  return linalg.solve(A, Xy, sym_pos=True, overwrite_a=True).T\n",
      "C:\\Users\\timlu\\anaconda3\\envs\\FYP\\lib\\site-packages\\sklearn\\linear_model\\_ridge.py:157: LinAlgWarning: Ill-conditioned matrix (rcond=5.8362e-09): result may not be accurate.\n",
      "  return linalg.solve(A, Xy, sym_pos=True, overwrite_a=True).T\n",
      "C:\\Users\\timlu\\anaconda3\\envs\\FYP\\lib\\site-packages\\sklearn\\linear_model\\_ridge.py:157: LinAlgWarning: Ill-conditioned matrix (rcond=5.52156e-09): result may not be accurate.\n",
      "  return linalg.solve(A, Xy, sym_pos=True, overwrite_a=True).T\n",
      "C:\\Users\\timlu\\anaconda3\\envs\\FYP\\lib\\site-packages\\sklearn\\linear_model\\_ridge.py:157: LinAlgWarning: Ill-conditioned matrix (rcond=5.59216e-09): result may not be accurate.\n",
      "  return linalg.solve(A, Xy, sym_pos=True, overwrite_a=True).T\n",
      "C:\\Users\\timlu\\anaconda3\\envs\\FYP\\lib\\site-packages\\sklearn\\linear_model\\_ridge.py:157: LinAlgWarning: Ill-conditioned matrix (rcond=6.16303e-09): result may not be accurate.\n",
      "  return linalg.solve(A, Xy, sym_pos=True, overwrite_a=True).T\n",
      "C:\\Users\\timlu\\anaconda3\\envs\\FYP\\lib\\site-packages\\sklearn\\linear_model\\_ridge.py:157: LinAlgWarning: Ill-conditioned matrix (rcond=4.72807e-09): result may not be accurate.\n",
      "  return linalg.solve(A, Xy, sym_pos=True, overwrite_a=True).T\n",
      "C:\\Users\\timlu\\anaconda3\\envs\\FYP\\lib\\site-packages\\sklearn\\linear_model\\_ridge.py:157: LinAlgWarning: Ill-conditioned matrix (rcond=5.49846e-09): result may not be accurate.\n",
      "  return linalg.solve(A, Xy, sym_pos=True, overwrite_a=True).T\n",
      "C:\\Users\\timlu\\anaconda3\\envs\\FYP\\lib\\site-packages\\sklearn\\linear_model\\_ridge.py:157: LinAlgWarning: Ill-conditioned matrix (rcond=5.57911e-09): result may not be accurate.\n",
      "  return linalg.solve(A, Xy, sym_pos=True, overwrite_a=True).T\n",
      "C:\\Users\\timlu\\anaconda3\\envs\\FYP\\lib\\site-packages\\sklearn\\linear_model\\_ridge.py:157: LinAlgWarning: Ill-conditioned matrix (rcond=5.5691e-09): result may not be accurate.\n",
      "  return linalg.solve(A, Xy, sym_pos=True, overwrite_a=True).T\n",
      "C:\\Users\\timlu\\anaconda3\\envs\\FYP\\lib\\site-packages\\sklearn\\linear_model\\_ridge.py:157: LinAlgWarning: Ill-conditioned matrix (rcond=5.29248e-09): result may not be accurate.\n",
      "  return linalg.solve(A, Xy, sym_pos=True, overwrite_a=True).T\n",
      "C:\\Users\\timlu\\anaconda3\\envs\\FYP\\lib\\site-packages\\sklearn\\linear_model\\_ridge.py:157: LinAlgWarning: Ill-conditioned matrix (rcond=5.62899e-09): result may not be accurate.\n",
      "  return linalg.solve(A, Xy, sym_pos=True, overwrite_a=True).T\n",
      "C:\\Users\\timlu\\anaconda3\\envs\\FYP\\lib\\site-packages\\sklearn\\linear_model\\_ridge.py:157: LinAlgWarning: Ill-conditioned matrix (rcond=5.45906e-09): result may not be accurate.\n",
      "  return linalg.solve(A, Xy, sym_pos=True, overwrite_a=True).T\n",
      "C:\\Users\\timlu\\anaconda3\\envs\\FYP\\lib\\site-packages\\sklearn\\linear_model\\_ridge.py:157: LinAlgWarning: Ill-conditioned matrix (rcond=5.50867e-09): result may not be accurate.\n",
      "  return linalg.solve(A, Xy, sym_pos=True, overwrite_a=True).T\n",
      "C:\\Users\\timlu\\anaconda3\\envs\\FYP\\lib\\site-packages\\sklearn\\linear_model\\_ridge.py:157: LinAlgWarning: Ill-conditioned matrix (rcond=5.62786e-09): result may not be accurate.\n",
      "  return linalg.solve(A, Xy, sym_pos=True, overwrite_a=True).T\n",
      "C:\\Users\\timlu\\anaconda3\\envs\\FYP\\lib\\site-packages\\sklearn\\linear_model\\_ridge.py:157: LinAlgWarning: Ill-conditioned matrix (rcond=5.48983e-09): result may not be accurate.\n",
      "  return linalg.solve(A, Xy, sym_pos=True, overwrite_a=True).T\n",
      "C:\\Users\\timlu\\anaconda3\\envs\\FYP\\lib\\site-packages\\sklearn\\linear_model\\_ridge.py:157: LinAlgWarning: Ill-conditioned matrix (rcond=5.95986e-09): result may not be accurate.\n",
      "  return linalg.solve(A, Xy, sym_pos=True, overwrite_a=True).T\n",
      "C:\\Users\\timlu\\anaconda3\\envs\\FYP\\lib\\site-packages\\sklearn\\linear_model\\_ridge.py:157: LinAlgWarning: Ill-conditioned matrix (rcond=5.42931e-09): result may not be accurate.\n",
      "  return linalg.solve(A, Xy, sym_pos=True, overwrite_a=True).T\n",
      "C:\\Users\\timlu\\anaconda3\\envs\\FYP\\lib\\site-packages\\sklearn\\linear_model\\_ridge.py:157: LinAlgWarning: Ill-conditioned matrix (rcond=5.37675e-09): result may not be accurate.\n",
      "  return linalg.solve(A, Xy, sym_pos=True, overwrite_a=True).T\n",
      "C:\\Users\\timlu\\anaconda3\\envs\\FYP\\lib\\site-packages\\sklearn\\linear_model\\_ridge.py:157: LinAlgWarning: Ill-conditioned matrix (rcond=5.56658e-09): result may not be accurate.\n",
      "  return linalg.solve(A, Xy, sym_pos=True, overwrite_a=True).T\n",
      "C:\\Users\\timlu\\anaconda3\\envs\\FYP\\lib\\site-packages\\sklearn\\linear_model\\_ridge.py:157: LinAlgWarning: Ill-conditioned matrix (rcond=5.46578e-09): result may not be accurate.\n",
      "  return linalg.solve(A, Xy, sym_pos=True, overwrite_a=True).T\n",
      "C:\\Users\\timlu\\anaconda3\\envs\\FYP\\lib\\site-packages\\sklearn\\linear_model\\_ridge.py:157: LinAlgWarning: Ill-conditioned matrix (rcond=5.52936e-09): result may not be accurate.\n",
      "  return linalg.solve(A, Xy, sym_pos=True, overwrite_a=True).T\n",
      "C:\\Users\\timlu\\anaconda3\\envs\\FYP\\lib\\site-packages\\sklearn\\linear_model\\_ridge.py:157: LinAlgWarning: Ill-conditioned matrix (rcond=5.44687e-09): result may not be accurate.\n",
      "  return linalg.solve(A, Xy, sym_pos=True, overwrite_a=True).T\n",
      "C:\\Users\\timlu\\anaconda3\\envs\\FYP\\lib\\site-packages\\sklearn\\linear_model\\_ridge.py:157: LinAlgWarning: Ill-conditioned matrix (rcond=5.55403e-09): result may not be accurate.\n",
      "  return linalg.solve(A, Xy, sym_pos=True, overwrite_a=True).T\n",
      "C:\\Users\\timlu\\anaconda3\\envs\\FYP\\lib\\site-packages\\sklearn\\linear_model\\_ridge.py:157: LinAlgWarning: Ill-conditioned matrix (rcond=6.05321e-09): result may not be accurate.\n",
      "  return linalg.solve(A, Xy, sym_pos=True, overwrite_a=True).T\n"
     ]
    }
   ],
   "source": [
    "from sklearn.linear_model import RidgeClassifier\n",
    "# Univariate feature selection\n",
    "f=SelectKBest(f_classif, k=5)\n",
    "\n",
    "f.fit(F,C)\n",
    "feat=f.transform(F)\n",
    "\n",
    "# figure out which feature is selected \n",
    "temp=f.get_support()\n",
    "print(\"feature selected:\",temp)\n",
    "\n",
    "clf = RidgeClassifier()\n",
    "scores=cross_val_score(clf,feat,C,scoring='accuracy',cv=30)\n",
    "\n",
    "print(\"Accuracy is: \",scores.mean(),\" with a standard deviation of \",scores.std())"
   ]
  },
  {
   "cell_type": "code",
   "execution_count": 6,
   "id": "aa78e233",
   "metadata": {},
   "outputs": [
    {
     "name": "stdout",
     "output_type": "stream",
     "text": [
      "feature selected: [False False False False False False False False False False False False\n",
      " False False False False False False False False False False False False\n",
      " False False False False False False False False False False False False\n",
      " False False False False False False False False False False False  True\n",
      " False  True False False  True False False False False False False  True\n",
      " False False False False  True]\n",
      "Accuracy is:  0.3738095238095239  with a standard deviation of  0.0841007745934959\n"
     ]
    }
   ],
   "source": [
    "from sklearn.svm import SVC\n",
    "# Univariate feature selection\n",
    "f=SelectKBest(f_classif, k=5)\n",
    "\n",
    "f.fit(F,C)\n",
    "feat=f.transform(F)\n",
    "\n",
    "# figure out which feature is selected \n",
    "temp=f.get_support()\n",
    "print(\"feature selected:\",temp)\n",
    "clf = SVC(kernel = 'rbf')\n",
    "scores=cross_val_score(clf,feat,C,scoring='accuracy',cv=30)\n",
    "\n",
    "print(\"Accuracy is: \",scores.mean(),\" with a standard deviation of \",scores.std())\n",
    "\n"
   ]
  },
  {
   "cell_type": "code",
   "execution_count": 64,
   "id": "70982445",
   "metadata": {},
   "outputs": [
    {
     "name": "stdout",
     "output_type": "stream",
     "text": [
      "feature selected: [False False False False False False False False False False False False\n",
      " False False False False  True False False False False False False False\n",
      " False False False False False False False False False False False False\n",
      " False False False False False False False False  True False False  True\n",
      " False  True False False  True False False False False False False  True\n",
      " False False False False  True]\n",
      "Accuracy is:  0.7103174603174603  with a standard deviation of  0.2610435576241488\n"
     ]
    }
   ],
   "source": [
    "from sklearn.tree import DecisionTreeClassifier as DT\n",
    "# Univariate feature selection\n",
    "f=SelectKBest(f_classif, k=7)\n",
    "\n",
    "f.fit(F,C)\n",
    "feat=f.transform(F)\n",
    "\n",
    "# figure out which feature is selected \n",
    "temp=f.get_support()\n",
    "print(\"feature selected:\",temp)\n",
    "\n",
    "clf = DT(max_depth=15)\n",
    "scores=cross_val_score(clf,feat,C,scoring='accuracy',cv=30)\n",
    "\n",
    "print(\"Accuracy is: \",scores.mean(),\" with a standard deviation of \",scores.std())\n"
   ]
  },
  {
   "cell_type": "code",
   "execution_count": 68,
   "id": "493ff9e3",
   "metadata": {},
   "outputs": [
    {
     "name": "stdout",
     "output_type": "stream",
     "text": [
      "feature selected: [False False False False False False False  True False False False False\n",
      " False False False False  True False False False False False False False\n",
      " False False False False False False False False False False False False\n",
      " False False  True False False False  True False  True False False  True\n",
      " False  True False False  True False False False False False False  True\n",
      " False False False False  True]\n",
      "Accuracy is:  0.523015873015873  with a standard deviation of  0.15751319196733643\n"
     ]
    }
   ],
   "source": [
    "# feature counts =  10\n",
    "from sklearn.neighbors import KNeighborsClassifier as KNN\n",
    "# Univariate feature selection\n",
    "f=SelectKBest(f_classif, k=10)\n",
    "\n",
    "f.fit(F,C)\n",
    "feat=f.transform(F)\n",
    "\n",
    "# figure out which feature is selected \n",
    "temp=f.get_support()\n",
    "print(\"feature selected:\",temp)\n",
    "\n",
    "\n",
    "\n",
    "clf = KNN(n_neighbors=2)\n",
    "scores=cross_val_score(clf,feat,C,scoring='accuracy',cv=30)\n",
    "\n",
    "print(\"Accuracy is: \",scores.mean(),\" with a standard deviation of \",scores.std())"
   ]
  },
  {
   "cell_type": "code",
   "execution_count": 18,
   "id": "70c05e68",
   "metadata": {},
   "outputs": [
    {
     "name": "stdout",
     "output_type": "stream",
     "text": [
      "feature selected: [False False False False False False False  True False False False False\n",
      " False False False False  True False False False False False False False\n",
      " False False False False False False False False False False False False\n",
      " False False  True False False False  True False  True False False  True\n",
      " False  True False False  True False False False False False False  True\n",
      " False False False False  True]\n",
      "Accuracy is:  0.7214285714285714  with a standard deviation of  0.26227607156831734\n"
     ]
    }
   ],
   "source": [
    "# feature counts = 10\n",
    "from sklearn.ensemble import RandomForestClassifier\n",
    "# Univariate feature selection\n",
    "f=SelectKBest(f_classif, k=10)\n",
    "\n",
    "f.fit(F,C)\n",
    "feat=f.transform(F)\n",
    "\n",
    "# figure out which feature is selected \n",
    "temp=f.get_support()\n",
    "print(\"feature selected:\",temp)\n",
    "\n",
    "\n",
    "\n",
    "clf = RandomForestClassifier(max_depth=10)\n",
    "scores=cross_val_score(clf,feat,C,scoring='accuracy',cv=30)\n",
    "\n",
    "print(\"Accuracy is: \",scores.mean(),\" with a standard deviation of \",scores.std())"
   ]
  },
  {
   "cell_type": "code",
   "execution_count": 19,
   "id": "51a86883",
   "metadata": {},
   "outputs": [
    {
     "name": "stdout",
     "output_type": "stream",
     "text": [
      "feature selected: [False False False False False False False  True False False False False\n",
      " False False False False  True False False False False False False False\n",
      " False False False False False False False False False False False False\n",
      " False False  True False False False  True False  True False False  True\n",
      " False  True False False  True False False False False False False  True\n",
      " False False False False  True]\n",
      "Accuracy is:  0.7253968253968253  with a standard deviation of  0.22752184061461908\n"
     ]
    }
   ],
   "source": [
    "# feature count = 20 \n",
    "from sklearn.ensemble import ExtraTreesClassifier\n",
    "# Univariate feature selection\n",
    "f=SelectKBest(f_classif, k=10)\n",
    "\n",
    "f.fit(F,C)\n",
    "feat=f.transform(F)\n",
    "\n",
    "# figure out which feature is selected \n",
    "temp=f.get_support()\n",
    "print(\"feature selected:\",temp)\n",
    "\n",
    "\n",
    "clf = ExtraTreesClassifier(n_estimators=25)\n",
    "scores=cross_val_score(clf,feat,C,scoring='accuracy',cv=30)\n",
    "\n",
    "print(\"Accuracy is: \",scores.mean(),\" with a standard deviation of \",scores.std())"
   ]
  },
  {
   "cell_type": "code",
   "execution_count": 69,
   "id": "8cd5b1ab",
   "metadata": {},
   "outputs": [],
   "source": [
    "\"\"\"\n",
    "\n",
    "Regression part\n",
    "\n",
    "\"\"\"\n",
    "from sklearn.feature_selection import SelectFromModel\n",
    "from sklearn.linear_model import LinearRegression\n",
    "from sklearn.metrics import mean_squared_error,make_scorer\n",
    "\n",
    "from sklearn.ensemble import RandomForestRegressor as RFR\n",
    "from sklearn.ensemble import ExtraTreesRegressor as ETR\n",
    "from sklearn.neighbors import KNeighborsRegressor as KNR\n",
    "from sklearn.svm import SVR"
   ]
  },
  {
   "cell_type": "code",
   "execution_count": 73,
   "id": "22d241f0",
   "metadata": {},
   "outputs": [
    {
     "name": "stdout",
     "output_type": "stream",
     "text": [
      "[ True  True  True False False False False False False  True  True  True\n",
      " False False False False False False False False False False False False\n",
      " False False False False False False False False False False False False\n",
      " False False False False False False False False False False False False\n",
      " False  True False  True False False False False False False False False\n",
      " False False False False False]\n",
      "MSE is:  121885.088046875  with a standard deviation of  122013.93367977648\n"
     ]
    }
   ],
   "source": [
    "# SKlearn feature extraction and regression\n",
    "# Simple Linear regression\n",
    "selector = SelectFromModel(estimator=LinearRegression()).fit(F, S)\n",
    "print(selector.get_support())\n",
    "feat=selector.transform(F)\n",
    "clf=LinearRegression()\n",
    "scores=cross_val_score(clf,feat,S,scoring=make_scorer(mean_squared_error),cv=50)\n",
    "\n",
    "print(\"MSE is: \",scores.mean(),\" with a standard deviation of \",scores.std())"
   ]
  },
  {
   "cell_type": "code",
   "execution_count": 74,
   "id": "e94c6dd2",
   "metadata": {},
   "outputs": [
    {
     "name": "stdout",
     "output_type": "stream",
     "text": [
      "[False False False  True False  True False  True  True False False False\n",
      "  True False False False False False False False False False False False\n",
      " False False False False False False False False  True False False False\n",
      " False False False False False  True False False False False False False\n",
      "  True False False False False  True  True False  True False  True False\n",
      " False False False False  True]\n",
      "MSE is:  59935.01214306656  with a standard deviation of  75765.8484805717\n"
     ]
    }
   ],
   "source": [
    "# KNN regressor\n",
    "selector = SelectFromModel(estimator=RFR(n_estimators = 80)).fit(F, S)\n",
    "print(selector.get_support())\n",
    "feat=selector.transform(F)\n",
    "clf=RFR(n_estimators = 80)\n",
    "scores=cross_val_score(clf,feat,S,scoring=make_scorer(mean_squared_error),cv=50)\n",
    "\n",
    "print(\"MSE is: \",scores.mean(),\" with a standard deviation of \",scores.std())"
   ]
  },
  {
   "cell_type": "code",
   "execution_count": 75,
   "id": "6b3c3ae3",
   "metadata": {},
   "outputs": [
    {
     "name": "stdout",
     "output_type": "stream",
     "text": [
      "[ True  True  True  True  True  True  True False False  True  True  True\n",
      "  True  True  True  True False  True False False False False False False\n",
      " False False False False False False False False  True False False False\n",
      " False False False False False False False False False False False False\n",
      "  True False False False False False False  True False  True  True False\n",
      " False False False False  True]\n",
      "(182, 21)\n",
      "MSE is:  59679.27041243827  with a standard deviation of  84972.60257125678\n"
     ]
    }
   ],
   "source": [
    "# Extra tree regressor\n",
    "selector = SelectFromModel(estimator=ETR(n_estimators = 100)).fit(F, S)\n",
    "print(selector.get_support())\n",
    "feat=selector.transform(F)\n",
    "\n",
    "clf=ETR(n_estimators = 100)\n",
    "scores=cross_val_score(clf,feat,S,scoring=make_scorer(mean_squared_error),cv=50)\n",
    "\n",
    "print(\"MSE is: \",scores.mean(),\" with a standard deviation of \",scores.std())"
   ]
  },
  {
   "cell_type": "code",
   "execution_count": null,
   "id": "4441ca43",
   "metadata": {},
   "outputs": [],
   "source": []
  }
 ],
 "metadata": {
  "kernelspec": {
   "display_name": "FYP",
   "language": "python",
   "name": "fyp"
  },
  "language_info": {
   "codemirror_mode": {
    "name": "ipython",
    "version": 3
   },
   "file_extension": ".py",
   "mimetype": "text/x-python",
   "name": "python",
   "nbconvert_exporter": "python",
   "pygments_lexer": "ipython3",
   "version": "3.7.16"
  }
 },
 "nbformat": 4,
 "nbformat_minor": 5
}
