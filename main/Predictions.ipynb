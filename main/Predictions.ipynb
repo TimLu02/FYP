{
 "cells": [
  {
   "cell_type": "code",
   "execution_count": null,
   "id": "413268f4",
   "metadata": {},
   "outputs": [],
   "source": [
    "\"\"\"\n",
    "Classifications and Regressions using features generated from the computed mask\n",
    "\n",
    "Conduct feature selection with the corresponding classificaton model\n",
    "\n",
    "Conduct featurer selection with the corresponding regression model\n",
    "\n",
    "\"\"\""
   ]
  },
  {
   "cell_type": "code",
   "execution_count": 13,
   "id": "442e0bf3",
   "metadata": {},
   "outputs": [],
   "source": [
    "# Project-wide Library calls\n",
    "import nibabel as nib\n",
    "import numpy as np\n",
    "import pandas as pd\n",
    "import os\n",
    "import matplotlib.pyplot as plt\n",
    "from skimage.util import montage \n",
    "from skimage.transform import rotate\n",
    "from sklearn.model_selection import train_test_split as ttt\n",
    "from sklearn.metrics import accuracy_score as AS\n",
    "import torch\n",
    "import torch.nn as nn \n",
    "import torch.nn.functional as F\n",
    "from torch.utils.data import Dataset, DataLoader\n",
    "import torch.optim as optim\n",
    "from tqdm import tqdm\n",
    "from pylab import *\n",
    "import gc\n",
    "import torchmetrics \n",
    "import radiomics\n",
    "from torchvision.utils import save_image\n",
    "import matplotlib.image\n",
    "import SimpleITK as sitk\n",
    "import radiomics\n",
    "\n"
   ]
  },
  {
   "cell_type": "code",
   "execution_count": 68,
   "id": "c6b98343",
   "metadata": {},
   "outputs": [],
   "source": [
    "FEAT_PATH ='log/feature_extraction/'\n",
    "tf=torch.load(FEAT_PATH+'tf.pt')\n",
    "ef=torch.load(FEAT_PATH+'ef.pt')\n",
    "ttf=torch.load(FEAT_PATH+'ttf.pt')\n",
    "\n",
    "ts=torch.load(FEAT_PATH+'ts.pt')\n",
    "es=torch.load(FEAT_PATH+'es.pt')\n",
    "tts=torch.load(FEAT_PATH+'tts.pt')\n",
    "\n",
    "tc=torch.load(FEAT_PATH+'tc.pt')\n",
    "ec=torch.load(FEAT_PATH+'ec.pt')\n",
    "ttc=torch.load(FEAT_PATH+'ttc.pt')\n",
    "\n",
    "\n",
    "\n",
    "# remove features with low variance\n",
    "from sklearn.feature_selection import VarianceThreshold\n",
    "\n",
    "sel = VarianceThreshold(threshold=5)\n",
    "tf=sel.fit_transform(tf)\n",
    "ef=sel.fit_transform(ef)\n",
    "ttf=sel.fit_transform(ttf)\n",
    "\n",
    "tf=torch.tensor(tf)\n",
    "ef=torch.tensor(ef)\n",
    "ttf=torch.tensor(ttf)\n",
    "\n",
    "# combined all data together\n",
    "F = torch.cat((tf,ef,ttf))\n",
    "\n",
    "S = torch.cat((ts,es,tts))\n",
    "\n",
    "C = torch.cat((tc,ec,ttc))"
   ]
  },
  {
   "cell_type": "code",
   "execution_count": 233,
   "id": "89290966",
   "metadata": {},
   "outputs": [],
   "source": [
    "\n",
    "\"\"\"\n",
    "\n",
    "Classificaton: \n",
    "\n",
    "Patients are divided into three classes:\n",
    "\n",
    "short-term: survival days < 10 months\n",
    "mid-term: 10 months < survival days < 15 months\n",
    "long-term: survival days > 15 months\n",
    "\n",
    "\"\"\"\n",
    "\n",
    "x_train,x_test,y_train,y_test=ttt(F,C)\n"
   ]
  },
  {
   "cell_type": "code",
   "execution_count": 234,
   "id": "2c69a71b",
   "metadata": {},
   "outputs": [
    {
     "data": {
      "text/plain": [
       "array([False,  True, False,  True,  True,  True, False, False, False,\n",
       "        True,  True, False,  True,  True, False, False,  True,  True,\n",
       "       False, False, False, False, False, False, False,  True, False,\n",
       "       False,  True, False, False,  True, False, False, False, False,\n",
       "        True, False, False, False,  True, False, False, False, False,\n",
       "       False, False, False, False, False, False, False, False,  True,\n",
       "        True, False,  True, False, False, False,  True, False,  True])"
      ]
     },
     "execution_count": 234,
     "metadata": {},
     "output_type": "execute_result"
    }
   ],
   "source": [
    "from sklearn.feature_selection import SelectKBest\n",
    "from sklearn.feature_selection import f_classif\n",
    "from sklearn.feature_selection import mutual_info_classif\n",
    "\n",
    "\n",
    "\n",
    "\n",
    "\n",
    "# Univariate feature selection\n",
    "f=SelectKBest(f_classif, k=20)\n",
    "\n",
    "f.fit(x_train,y_train)\n",
    "x_train=f.transform(x_train)\n",
    "x_test=f.transform(x_test)\n",
    "\n",
    "# figure out which feature is selected \n",
    "f.get_support()\n"
   ]
  },
  {
   "cell_type": "code",
   "execution_count": 112,
   "id": "8f4da9a0",
   "metadata": {},
   "outputs": [
    {
     "data": {
      "text/plain": [
       "0.6086956521739131"
      ]
     },
     "execution_count": 112,
     "metadata": {},
     "output_type": "execute_result"
    }
   ],
   "source": [
    "# RidgeClassifier feature counts = 4\n",
    "from sklearn.linear_model import RidgeClassifier\n",
    "\n",
    "clf = RidgeClassifier().fit(x_train, y_train)\n",
    "clf.score(x_test,y_test)\n"
   ]
  },
  {
   "cell_type": "code",
   "execution_count": 152,
   "id": "aa78e233",
   "metadata": {},
   "outputs": [
    {
     "data": {
      "text/plain": [
       "0.6304347826086957"
      ]
     },
     "execution_count": 152,
     "metadata": {},
     "output_type": "execute_result"
    }
   ],
   "source": [
    "# feature counts = 10\n",
    "from sklearn.svm import SVC\n",
    "\n",
    "clf = SVC(kernel = 'poly')\n",
    "\n",
    "clf.fit(x_train,y_train)\n",
    "\n",
    "pred=clf.predict(x_test)\n",
    "AS(pred,y_test)\n"
   ]
  },
  {
   "cell_type": "code",
   "execution_count": 209,
   "id": "70982445",
   "metadata": {},
   "outputs": [
    {
     "data": {
      "text/plain": [
       "0.7391304347826086"
      ]
     },
     "execution_count": 209,
     "metadata": {},
     "output_type": "execute_result"
    }
   ],
   "source": [
    "# feature counts =  15\n",
    "from sklearn.tree import DecisionTreeClassifier as DT\n",
    "clf = DT()\n",
    "clf.fit(x_train,y_train)\n",
    "pred=clf.predict(x_test)\n",
    "AS(pred,y_test)\n",
    "\n",
    "\n"
   ]
  },
  {
   "cell_type": "code",
   "execution_count": 198,
   "id": "493ff9e3",
   "metadata": {},
   "outputs": [
    {
     "data": {
      "text/plain": [
       "0.5652173913043478"
      ]
     },
     "execution_count": 198,
     "metadata": {},
     "output_type": "execute_result"
    }
   ],
   "source": [
    "# feature counts =  10\n",
    "from sklearn.neighbors import KNeighborsClassifier as KNN\n",
    "clf = KNN(n_neighbors=2)\n",
    "clf.fit(x_train,y_train)\n",
    "pred=clf.predict(x_test)\n",
    "AS(pred,y_test)\n"
   ]
  },
  {
   "cell_type": "code",
   "execution_count": 217,
   "id": "70c05e68",
   "metadata": {},
   "outputs": [
    {
     "data": {
      "text/plain": [
       "0.6739130434782609"
      ]
     },
     "execution_count": 217,
     "metadata": {},
     "output_type": "execute_result"
    }
   ],
   "source": [
    "# feature counts = 15\n",
    "from sklearn.ensemble import RandomForestClassifier\n",
    "clf = RandomForestClassifier(max_depth=15)\n",
    "clf.fit(x_train,y_train)\n",
    "pred=clf.predict(x_test)\n",
    "AS(pred,y_test)\n"
   ]
  },
  {
   "cell_type": "code",
   "execution_count": 235,
   "id": "51a86883",
   "metadata": {},
   "outputs": [
    {
     "data": {
      "text/plain": [
       "0.717391304347826"
      ]
     },
     "execution_count": 235,
     "metadata": {},
     "output_type": "execute_result"
    }
   ],
   "source": [
    "# feature count = 20 \n",
    "from sklearn.ensemble import ExtraTreesClassifier\n",
    "clf = ExtraTreesClassifier(n_estimators=10)\n",
    "clf.fit(x_train,y_train)\n",
    "pred=clf.predict(x_test)\n",
    "AS(pred,y_test)\n"
   ]
  },
  {
   "cell_type": "code",
   "execution_count": 262,
   "id": "8cd5b1ab",
   "metadata": {},
   "outputs": [],
   "source": [
    "\"\"\"\n",
    "\n",
    "Regression part\n",
    "\n",
    "\"\"\"\n",
    "from sklearn.feature_selection import SelectFromModel\n",
    "from sklearn.linear_model import LinearRegression\n",
    "from sklearn.metrics import mean_squared_error\n",
    "x_train,x_test,y_train,y_test=ttt(F,S)"
   ]
  },
  {
   "cell_type": "code",
   "execution_count": 263,
   "id": "22d241f0",
   "metadata": {},
   "outputs": [
    {
     "name": "stdout",
     "output_type": "stream",
     "text": [
      "[ True  True  True False False False False False  True  True False  True\n",
      " False False False False False False False False  True False  True  True\n",
      " False False  True False False False False False False False False False\n",
      " False False  True  True False False False False  True False False False\n",
      " False False False False False False False False False False False False\n",
      " False False False]\n"
     ]
    },
    {
     "data": {
      "text/plain": [
       "103716.555"
      ]
     },
     "execution_count": 263,
     "metadata": {},
     "output_type": "execute_result"
    }
   ],
   "source": [
    "# SKlearn feature extraction and regression\n",
    "selector = SelectFromModel(estimator=LinearRegression()).fit(x_train, y_train)\n",
    "print(selector.get_support())\n",
    "x_train=selector.transform(x_train)\n",
    "x_test=selector.transform(x_test)\n",
    "\n",
    "clf=LinearRegression().fit(x_train,y_train)\n",
    "pred=clf.predict(x_test)\n",
    "mean_squared_error(pred, y_test)"
   ]
  },
  {
   "cell_type": "code",
   "execution_count": null,
   "id": "e94c6dd2",
   "metadata": {},
   "outputs": [],
   "source": []
  }
 ],
 "metadata": {
  "kernelspec": {
   "display_name": "FYP",
   "language": "python",
   "name": "fyp"
  },
  "language_info": {
   "codemirror_mode": {
    "name": "ipython",
    "version": 3
   },
   "file_extension": ".py",
   "mimetype": "text/x-python",
   "name": "python",
   "nbconvert_exporter": "python",
   "pygments_lexer": "ipython3",
   "version": "3.7.16"
  }
 },
 "nbformat": 4,
 "nbformat_minor": 5
}
