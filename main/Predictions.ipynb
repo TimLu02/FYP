{
 "cells": [
  {
   "cell_type": "code",
   "execution_count": null,
   "id": "413268f4",
   "metadata": {},
   "outputs": [],
   "source": [
    "\"\"\"\n",
    "Classifications and Regressions using features generated from the computed mask\n",
    "\n",
    "\"\"\""
   ]
  },
  {
   "cell_type": "code",
   "execution_count": 4,
   "id": "442e0bf3",
   "metadata": {},
   "outputs": [],
   "source": [
    "# Necessary Library Calls\n",
    "import nibabel as nib\n",
    "import numpy as np\n",
    "import pandas as pd\n",
    "import os\n",
    "import matplotlib.pyplot as plt\n",
    "from skimage.util import montage \n",
    "from skimage.transform import rotate\n",
    "from sklearn.model_selection import train_test_split as ttt\n",
    "import torch\n",
    "import torch.nn as nn \n",
    "import torch.nn.functional as F\n",
    "from torch.utils.data import Dataset, DataLoader\n",
    "import torch.optim as optim\n",
    "from tqdm import tqdm\n",
    "from pylab import *\n",
    "import gc\n",
    "import torchmetrics \n",
    "import radiomics\n",
    "from torchvision.utils import save_image\n",
    "import matplotlib.image\n",
    "import SimpleITK as sitk\n",
    "import radiomics\n",
    "\n"
   ]
  },
  {
   "cell_type": "code",
   "execution_count": 5,
   "id": "20d252ce",
   "metadata": {},
   "outputs": [],
   "source": [
    "# Global variable definition\n",
    "IMAGE_PATH = 'data/MICCAI_BraTS_2019_Data_Training'\n",
    "CSV_FILE='data/MICCAI_BraTS_2019_Data_Training/new.csv'\n",
    "MODEL_PATH = 'log/21/'\n",
    "\n",
    "# number of slices, meaning how many slices we are taking from one image file  \n",
    "SLICE_NUM = 10\n",
    "# Original Image Size\n",
    "IMAGE_SIZE=240\n",
    "# Image size after cropping\n",
    "HEIGHT=128\n",
    "WIDTH=144\n",
    "\n",
    "# Batch size constant\n",
    "BATCH_SIZE= 1\n",
    "# input_channel corresponds to the number of different types of images used: \n",
    "# e.g: T1, T2, T1_flair, etc. \n",
    "# only using one type of images at the moment\n",
    "INPUT_CHANNEL=2\n",
    "EPOCH = 50\n",
    "LEARNING_RATE = 0.001\n",
    "SLICE_STARTS=torch.load('data/slice_starts.pt')\n",
    "device = torch.device('cuda')\n",
    "LOAD_CURRENT = False\n",
    "LOAD_BEST = True\n"
   ]
  },
  {
   "cell_type": "code",
   "execution_count": 6,
   "id": "c6b98343",
   "metadata": {},
   "outputs": [],
   "source": [
    "FEAT_PATH ='log/feature_extraction/'\n",
    "tf=torch.load(FEAT_PATH+'tf.pt')\n",
    "ef=torch.load(FEAT_PATH+'ef.pt')\n",
    "ttf=torch.load(FEAT_PATH+'ttf.pt')\n",
    "\n",
    "ts=torch.load(FEAT_PATH+'ts.pt')\n",
    "es=torch.load(FEAT_PATH+'es.pt')\n",
    "tts=torch.load(FEAT_PATH+'tts.pt')\n",
    "\n",
    "tc=torch.load(FEAT_PATH+'tc.pt')\n",
    "ec=torch.load(FEAT_PATH+'ec.pt')\n",
    "ttc=torch.load(FEAT_PATH+'ttc.pt')\n",
    "\n",
    "\n",
    "\n"
   ]
  },
  {
   "cell_type": "code",
   "execution_count": null,
   "id": "89290966",
   "metadata": {},
   "outputs": [],
   "source": [
    "\"\"\"\n",
    "\n",
    "Classificaton: \n",
    "\n",
    "Patients are divided into three classes:\n",
    "\n",
    "short-term: survival days < 10 months\n",
    "mid-term: 10 months < survival days < 15 months\n",
    "long-term: survival days > 15 months\n",
    "\n",
    "\"\"\""
   ]
  },
  {
   "cell_type": "code",
   "execution_count": 7,
   "id": "2c69a71b",
   "metadata": {},
   "outputs": [],
   "source": [
    "from sklearn.svm import SVC\n",
    "from sklearn.feature_selection import SelectFromModel\n",
    "from sklearn.linear_model import LogisticRegression\n",
    "from sklearn.ensemble import BaggingClassifier\n",
    "from sklearn.svm import LinearSVC"
   ]
  },
  {
   "cell_type": "code",
   "execution_count": null,
   "id": "493ff9e3",
   "metadata": {},
   "outputs": [
    {
     "name": "stdout",
     "output_type": "stream",
     "text": [
      "torch.Size([36, 88])\n",
      "[2. 1. 1. 0. 1. 1. 0. 2. 2. 0. 1. 1. 2. 0. 1. 1. 0. 1. 0. 0. 1. 1. 0. 0.\n",
      " 1. 2. 1. 1. 1. 0. 1. 0. 1. 1. 1. 0.]\n"
     ]
    }
   ],
   "source": [
    "\n",
    "\n",
    "\n",
    "t1=tf\n",
    "e1=ef\n",
    "tt1=ttf\n",
    "print(e1.shape)\n",
    "print(ec.cpu().numpy())\n",
    "clf = SVC(kernel='linear').fit(e1.cpu().numpy(),ec.cpu().numpy())\n",
    "\n",
    "\n"
   ]
  },
  {
   "cell_type": "code",
   "execution_count": 187,
   "id": "70c05e68",
   "metadata": {},
   "outputs": [
    {
     "data": {
      "text/plain": [
       "0.5277777777777778"
      ]
     },
     "execution_count": 187,
     "metadata": {},
     "output_type": "execute_result"
    }
   ],
   "source": [
    "\n",
    "t1=tf\n",
    "e1=ef\n",
    "tt1=ttf\n",
    "selector = SelectFromModel(estimator=LogisticRegression()).fit(t1, tc)\n",
    "t1=selector.transform(t1)\n",
    "e1=selector.transform(e1)\n",
    "tt1=selector.transform(tt1)\n",
    "\n",
    "clf=LogisticRegression().fit(t1,tc)\n",
    "clf.score(e1,ttc)\n",
    "\n"
   ]
  },
  {
   "cell_type": "code",
   "execution_count": 16,
   "id": "08198793",
   "metadata": {},
   "outputs": [
    {
     "data": {
      "text/plain": [
       "0.43636363636363634"
      ]
     },
     "execution_count": 16,
     "metadata": {},
     "output_type": "execute_result"
    }
   ],
   "source": [
    "from sklearn.svm import LinearSVC\n",
    "t1=tf\n",
    "e1=ef\n",
    "\n",
    "tt1=ttf\n",
    "s = SelectFromModel(estimator=LinearSVC(dual=False)).fit(t1, tc)\n",
    "t1=s.transform(t1)\n",
    "e1=s.transform(e1)\n",
    "tt1=s.transform(tt1)\n",
    "\n",
    "clf=LinearSVC(dual=False).fit(t1,tc)\n",
    "clf.score(t1,tc)\n",
    "\n"
   ]
  },
  {
   "cell_type": "code",
   "execution_count": 149,
   "id": "687592bd",
   "metadata": {},
   "outputs": [
    {
     "data": {
      "text/plain": [
       "array([[1.21208627e+09, 1.21208627e+09, 1.06051859e+09, 1.06051859e+09],\n",
       "       [1.91398624e+08, 1.91398624e+08, 4.07754848e+08, 4.07754848e+08],\n",
       "       [6.83496653e+10, 6.83496653e+10, 1.12211354e+10, 1.12211354e+10],\n",
       "       [3.34279620e+07, 3.34279620e+07, 7.91431840e+07, 7.91431840e+07],\n",
       "       [2.23592256e+08, 2.23592256e+08, 4.01594752e+08, 4.01594752e+08],\n",
       "       [1.91421152e+08, 1.91421152e+08, 3.61693824e+08, 3.61693824e+08],\n",
       "       [5.75114304e+08, 5.75114304e+08, 2.64149376e+08, 2.64149376e+08],\n",
       "       [3.90097600e+07, 3.90097600e+07, 1.58938800e+07, 1.58938800e+07],\n",
       "       [3.46162509e+09, 3.46162509e+09, 2.66582963e+09, 2.66582963e+09],\n",
       "       [3.80605760e+08, 3.80605760e+08, 2.57065024e+08, 2.57065024e+08],\n",
       "       [6.14488384e+08, 6.14488384e+08, 5.87968832e+08, 5.87968832e+08],\n",
       "       [6.53892544e+08, 6.53892544e+08, 5.27044448e+08, 5.27044448e+08],\n",
       "       [8.27587200e+08, 8.27587200e+08, 7.28163136e+08, 7.28163136e+08],\n",
       "       [1.44158864e+08, 1.44158864e+08, 1.30993048e+08, 1.30993048e+08],\n",
       "       [3.99863808e+08, 3.99863808e+08, 1.52987610e+09, 1.52987610e+09],\n",
       "       [3.94817920e+07, 3.94817920e+07, 3.00650340e+07, 3.00650340e+07],\n",
       "       [4.04873011e+09, 4.04873011e+09, 1.40428657e+10, 1.40428657e+10],\n",
       "       [5.90071488e+08, 5.90071488e+08, 7.81952448e+08, 7.81952448e+08],\n",
       "       [2.10074192e+08, 2.10074192e+08, 1.62407344e+08, 1.62407344e+08],\n",
       "       [8.80642368e+08, 8.80642368e+08, 7.28246221e+09, 7.28246221e+09],\n",
       "       [1.30099955e+09, 1.30099955e+09, 6.06820480e+08, 6.06820480e+08],\n",
       "       [2.69686349e+09, 2.69686349e+09, 2.01772093e+10, 2.01772093e+10],\n",
       "       [4.28237760e+07, 4.28237760e+07, 6.01145088e+08, 6.01145088e+08],\n",
       "       [1.14961920e+09, 1.14961920e+09, 3.11190374e+09, 3.11190374e+09],\n",
       "       [5.34625728e+08, 5.34625728e+08, 5.73572544e+08, 5.73572544e+08],\n",
       "       [1.45161000e+05, 1.45161000e+05, 6.08400000e+05, 6.08400000e+05],\n",
       "       [1.90632280e+07, 1.90632280e+07, 3.12423328e+08, 3.12423328e+08],\n",
       "       [8.30424064e+08, 8.30424064e+08, 4.11065421e+09, 4.11065421e+09],\n",
       "       [1.12029696e+09, 1.12029696e+09, 9.21200768e+08, 9.21200768e+08],\n",
       "       [8.98704960e+07, 8.98704960e+07, 1.31074776e+08, 1.31074776e+08],\n",
       "       [5.09844256e+08, 5.09844256e+08, 3.37103360e+08, 3.37103360e+08],\n",
       "       [1.26936440e+07, 1.26936440e+07, 3.62159900e+06, 3.62159900e+06],\n",
       "       [7.68795328e+08, 7.68795328e+08, 1.79548467e+09, 1.79548467e+09],\n",
       "       [1.77601760e+07, 1.77601760e+07, 5.77903900e+06, 5.77903900e+06],\n",
       "       [1.33798624e+08, 1.33798624e+08, 1.03422280e+08, 1.03422280e+08],\n",
       "       [8.81182720e+07, 8.81182720e+07, 8.89552640e+07, 8.89552640e+07],\n",
       "       [9.74587360e+07, 9.74587360e+07, 1.27975520e+08, 1.27975520e+08],\n",
       "       [8.88114432e+08, 8.88114432e+08, 6.77954624e+08, 6.77954624e+08],\n",
       "       [3.98974848e+08, 3.98974848e+08, 4.34715104e+08, 4.34715104e+08],\n",
       "       [6.78150016e+08, 6.78150016e+08, 7.72341632e+08, 7.72341632e+08],\n",
       "       [1.03787795e+09, 1.03787795e+09, 1.00889114e+09, 1.00889114e+09],\n",
       "       [1.95800080e+08, 1.95800080e+08, 6.47292800e+08, 6.47292800e+08],\n",
       "       [1.16408808e+08, 1.16408808e+08, 1.87314128e+08, 1.87314128e+08],\n",
       "       [6.93330752e+08, 6.93330752e+08, 1.42028595e+09, 1.42028595e+09],\n",
       "       [3.10858660e+07, 3.10858660e+07, 1.12830820e+07, 1.12830820e+07],\n",
       "       [1.74730272e+08, 1.74730272e+08, 6.58714960e+07, 6.58714960e+07],\n",
       "       [4.06077680e+07, 4.06077680e+07, 4.41977960e+07, 4.41977960e+07],\n",
       "       [2.77409220e+07, 2.77409220e+07, 1.02497741e+09, 1.02497741e+09],\n",
       "       [3.23612672e+08, 3.23612672e+08, 5.39572800e+08, 5.39572800e+08],\n",
       "       [8.86063206e+09, 8.86063206e+09, 4.07396557e+09, 4.07396557e+09],\n",
       "       [2.11668928e+08, 2.11668928e+08, 1.18719024e+08, 1.18719024e+08],\n",
       "       [8.33480960e+08, 8.33480960e+08, 1.60487450e+09, 1.60487450e+09],\n",
       "       [2.70792371e+09, 2.70792371e+09, 1.70368448e+09, 1.70368448e+09],\n",
       "       [3.31555302e+09, 3.31555302e+09, 5.72868659e+09, 5.72868659e+09],\n",
       "       [9.47144768e+08, 9.47144768e+08, 1.86086438e+09, 1.86086438e+09],\n",
       "       [3.59729439e+10, 3.59729439e+10, 3.78747264e+09, 3.78747264e+09],\n",
       "       [2.29838760e+07, 2.29838760e+07, 8.52327680e+07, 8.52327680e+07],\n",
       "       [1.35991580e+07, 1.35991580e+07, 2.35750640e+08, 2.35750640e+08],\n",
       "       [1.61372250e+07, 1.61372250e+07, 1.33257700e+07, 1.33257700e+07],\n",
       "       [3.31468000e+08, 3.31468000e+08, 6.82470656e+08, 6.82470656e+08],\n",
       "       [1.11289952e+08, 1.11289952e+08, 2.71065728e+08, 2.71065728e+08],\n",
       "       [2.91540384e+08, 2.91540384e+08, 2.61297152e+08, 2.61297152e+08],\n",
       "       [6.78567040e+07, 6.78567040e+07, 2.85588736e+08, 2.85588736e+08],\n",
       "       [2.65079264e+08, 2.65079264e+08, 3.29244928e+08, 3.29244928e+08],\n",
       "       [2.98306920e+07, 2.98306920e+07, 3.25049120e+07, 3.25049120e+07],\n",
       "       [1.86127984e+08, 1.86127984e+08, 3.68079872e+08, 3.68079872e+08],\n",
       "       [1.52626624e+08, 1.52626624e+08, 2.56043597e+09, 2.56043597e+09],\n",
       "       [3.85697120e+08, 3.85697120e+08, 5.39876928e+08, 5.39876928e+08],\n",
       "       [1.70595185e+10, 1.70595185e+10, 1.00545843e+10, 1.00545843e+10],\n",
       "       [9.01318240e+07, 9.01318240e+07, 6.79766784e+08, 6.79766784e+08],\n",
       "       [5.38693600e+06, 5.38693600e+06, 8.57339440e+07, 8.57339440e+07],\n",
       "       [7.00108992e+08, 7.00108992e+08, 9.22313280e+08, 9.22313280e+08],\n",
       "       [1.09775885e+09, 1.09775885e+09, 7.95306304e+08, 7.95306304e+08],\n",
       "       [4.53008064e+08, 4.53008064e+08, 6.90564672e+08, 6.90564672e+08],\n",
       "       [1.56396250e+07, 1.56396250e+07, 7.54427300e+06, 7.54427300e+06],\n",
       "       [6.76182016e+08, 6.76182016e+08, 7.83858240e+08, 7.83858240e+08],\n",
       "       [1.38409072e+08, 1.38409072e+08, 2.14186400e+08, 2.14186400e+08],\n",
       "       [1.91122200e+07, 1.91122200e+07, 5.94281664e+08, 5.94281664e+08],\n",
       "       [1.02472744e+08, 1.02472744e+08, 3.33473485e+09, 3.33473485e+09],\n",
       "       [3.90838752e+08, 3.90838752e+08, 3.62273376e+08, 3.62273376e+08],\n",
       "       [3.53620506e+09, 3.53620506e+09, 1.42462989e+09, 1.42462989e+09],\n",
       "       [6.14555520e+08, 6.14555520e+08, 5.11809568e+08, 5.11809568e+08],\n",
       "       [7.51921984e+08, 7.51921984e+08, 2.03740160e+09, 2.03740160e+09],\n",
       "       [1.75985040e+07, 1.75985040e+07, 5.38746300e+06, 5.38746300e+06],\n",
       "       [1.37533360e+08, 1.37533360e+08, 2.89266944e+08, 2.89266944e+08],\n",
       "       [1.22434312e+08, 1.22434312e+08, 1.73680704e+08, 1.73680704e+08],\n",
       "       [5.09206200e+07, 5.09206200e+07, 2.86062040e+07, 2.86062040e+07],\n",
       "       [4.79395872e+08, 4.79395872e+08, 5.23085984e+08, 5.23085984e+08],\n",
       "       [2.66091376e+08, 2.66091376e+08, 1.45532224e+08, 1.45532224e+08],\n",
       "       [5.06199204e+10, 5.06199204e+10, 4.21188275e+09, 4.21188275e+09],\n",
       "       [1.94015760e+08, 1.94015760e+08, 1.33647720e+08, 1.33647720e+08],\n",
       "       [6.15332736e+08, 6.15332736e+08, 1.46295194e+09, 1.46295194e+09],\n",
       "       [1.83614560e+08, 1.83614560e+08, 3.98253120e+08, 3.98253120e+08],\n",
       "       [7.27753120e+07, 7.27753120e+07, 1.74612160e+07, 1.74612160e+07],\n",
       "       [1.34506330e+09, 1.34506330e+09, 1.85292480e+09, 1.85292480e+09],\n",
       "       [1.91899360e+08, 1.91899360e+08, 2.62075184e+08, 2.62075184e+08],\n",
       "       [4.80013664e+08, 4.80013664e+08, 4.49381696e+08, 4.49381696e+08],\n",
       "       [7.81341030e+09, 7.81341030e+09, 2.07882547e+09, 2.07882547e+09],\n",
       "       [3.78580288e+08, 3.78580288e+08, 5.42840896e+08, 5.42840896e+08],\n",
       "       [2.04382016e+08, 2.04382016e+08, 5.31620320e+07, 5.31620320e+07],\n",
       "       [3.09453600e+08, 3.09453600e+08, 5.41827968e+08, 5.41827968e+08],\n",
       "       [3.50616544e+08, 3.50616544e+08, 1.05855456e+08, 1.05855456e+08],\n",
       "       [3.29735904e+08, 3.29735904e+08, 1.32682720e+08, 1.32682720e+08],\n",
       "       [1.41120410e+09, 1.41120410e+09, 1.03397850e+09, 1.03397850e+09],\n",
       "       [1.58797645e+09, 1.58797645e+09, 3.98112998e+09, 3.98112998e+09],\n",
       "       [3.13913184e+08, 3.13913184e+08, 1.96056688e+08, 1.96056688e+08],\n",
       "       [4.80289376e+08, 4.80289376e+08, 4.15225696e+08, 4.15225696e+08],\n",
       "       [1.83933008e+08, 1.83933008e+08, 1.82826304e+08, 1.82826304e+08],\n",
       "       [5.59120680e+07, 5.59120680e+07, 9.46516160e+07, 9.46516160e+07],\n",
       "       [9.89584768e+08, 9.89584768e+08, 1.29932198e+09, 1.29932198e+09]],\n",
       "      dtype=float32)"
      ]
     },
     "execution_count": 149,
     "metadata": {},
     "output_type": "execute_result"
    }
   ],
   "source": [
    "selector.get_support()\n",
    "selector.transform(t1)\n"
   ]
  },
  {
   "cell_type": "code",
   "execution_count": 150,
   "id": "9e9d5d2c",
   "metadata": {},
   "outputs": [],
   "source": [
    "clf = LogisticRegression(random_state=0).fit(t1, tc)"
   ]
  },
  {
   "cell_type": "code",
   "execution_count": 151,
   "id": "4e60b0f6",
   "metadata": {},
   "outputs": [
    {
     "data": {
      "text/plain": [
       "0.43636363636363634"
      ]
     },
     "execution_count": 151,
     "metadata": {},
     "output_type": "execute_result"
    }
   ],
   "source": [
    "clf.score(t1, tc)"
   ]
  },
  {
   "cell_type": "code",
   "execution_count": 152,
   "id": "51a86883",
   "metadata": {},
   "outputs": [],
   "source": [
    "from sklearn.ensemble import ExtraTreesClassifier\n",
    "selector = SelectFromModel(estimator=ExtraTreesClassifier(n_estimators=50)).fit(tf, tc)"
   ]
  },
  {
   "cell_type": "code",
   "execution_count": 153,
   "id": "e2fcf94b",
   "metadata": {},
   "outputs": [
    {
     "data": {
      "text/plain": [
       "array([False, False,  True,  True,  True,  True,  True,  True, False,\n",
       "       False, False,  True, False,  True, False,  True,  True, False,\n",
       "        True,  True,  True,  True,  True,  True, False,  True,  True,\n",
       "       False, False, False,  True, False, False, False, False,  True,\n",
       "        True, False, False, False, False, False, False, False, False,\n",
       "       False, False, False,  True, False, False, False, False, False,\n",
       "        True,  True, False, False,  True, False,  True, False,  True,\n",
       "       False, False,  True, False,  True,  True, False, False, False,\n",
       "        True,  True,  True, False, False,  True, False, False,  True,\n",
       "        True, False, False, False, False,  True,  True])"
      ]
     },
     "execution_count": 153,
     "metadata": {},
     "output_type": "execute_result"
    }
   ],
   "source": [
    "t1=tf\n",
    "selector.get_support()\n"
   ]
  },
  {
   "cell_type": "code",
   "execution_count": 154,
   "id": "920448e3",
   "metadata": {},
   "outputs": [
    {
     "data": {
      "text/plain": [
       "array([[1.6774779e+03, 4.1133627e-01, 1.3995692e-02, ..., 5.6817696e+01,\n",
       "        0.0000000e+00, 5.6550686e+01],\n",
       "       [2.0706106e+03, 3.4537622e-01, 1.0768062e-02, ..., 1.5095553e+01,\n",
       "        0.0000000e+00, 5.1756165e+01],\n",
       "       [5.2834517e+03, 5.2794075e-01, 2.0350572e-02, ..., 1.1588735e+01,\n",
       "        0.0000000e+00, 3.1967123e+01],\n",
       "       ...,\n",
       "       [2.0203104e+03, 3.4519389e-01, 1.0759536e-02, ..., 6.5421720e+00,\n",
       "        1.0000000e+00, 6.5115067e+01],\n",
       "       [9.4777429e+02, 2.8413337e-01, 8.0349334e-03, ..., 1.5923249e+01,\n",
       "        1.0000000e+00, 6.0698631e+01],\n",
       "       [1.1355579e+03, 4.5397761e-01, 1.6227460e-02, ..., 4.7212458e+00,\n",
       "        1.0000000e+00, 6.0000000e+01]], dtype=float32)"
      ]
     },
     "execution_count": 154,
     "metadata": {},
     "output_type": "execute_result"
    }
   ],
   "source": [
    "t1=ef\n",
    "selector.transform(t1)"
   ]
  },
  {
   "cell_type": "code",
   "execution_count": 155,
   "id": "0d7dbfd3",
   "metadata": {},
   "outputs": [],
   "source": [
    "clf = ExtraTreesClassifier(n_estimators=50).fit(t1, tc)"
   ]
  },
  {
   "cell_type": "code",
   "execution_count": null,
   "id": "ecf0dd02",
   "metadata": {},
   "outputs": [],
   "source": [
    "clf.score(e1,ec)"
   ]
  },
  {
   "cell_type": "code",
   "execution_count": 157,
   "id": "7e3f011b",
   "metadata": {},
   "outputs": [],
   "source": []
  },
  {
   "cell_type": "code",
   "execution_count": 158,
   "id": "264052e4",
   "metadata": {},
   "outputs": [
    {
     "data": {
      "text/plain": [
       "array([[3.5559312e+03, 3.4892747e-01, 1.0934568e-02, ..., 1.8379179e+01,\n",
       "        0.0000000e+00, 6.0413700e+01],\n",
       "       [3.4340444e+03, 4.1096082e-01, 1.3976535e-02, ..., 1.6116812e+02,\n",
       "        1.0000000e+00, 3.9000000e+01],\n",
       "       [1.7294396e+03, 4.0873712e-01, 1.3863248e-02, ..., 9.7704079e+01,\n",
       "        0.0000000e+00, 2.7904110e+01],\n",
       "       ...,\n",
       "       [3.3646284e+03, 4.8883533e-01, 1.8131876e-02, ..., 5.4801497e+00,\n",
       "        0.0000000e+00, 6.0330395e+01],\n",
       "       [2.1830483e+03, 2.6239780e-01, 7.1308143e-03, ..., 5.2007880e+00,\n",
       "        0.0000000e+00, 6.0330395e+01],\n",
       "       [1.9795342e+03, 4.7079375e-01, 1.7137401e-02, ..., 6.6197944e+00,\n",
       "        0.0000000e+00, 5.6400002e+01]], dtype=float32)"
      ]
     },
     "execution_count": 158,
     "metadata": {},
     "output_type": "execute_result"
    }
   ],
   "source": []
  },
  {
   "cell_type": "code",
   "execution_count": 159,
   "id": "8917e39a",
   "metadata": {},
   "outputs": [
    {
     "data": {
      "text/plain": [
       "1.0"
      ]
     },
     "execution_count": 159,
     "metadata": {},
     "output_type": "execute_result"
    }
   ],
   "source": []
  },
  {
   "cell_type": "code",
   "execution_count": null,
   "id": "b15395e5",
   "metadata": {},
   "outputs": [],
   "source": [
    "t1=model.transform(t1)\n",
    "e1=model.transform(e1)\n",
    "tt1=model.transform(tt1)"
   ]
  },
  {
   "cell_type": "code",
   "execution_count": null,
   "id": "8cd5b1ab",
   "metadata": {},
   "outputs": [],
   "source": []
  },
  {
   "cell_type": "code",
   "execution_count": null,
   "id": "22d241f0",
   "metadata": {},
   "outputs": [],
   "source": []
  }
 ],
 "metadata": {
  "kernelspec": {
   "display_name": "FYP",
   "language": "python",
   "name": "fyp"
  },
  "language_info": {
   "codemirror_mode": {
    "name": "ipython",
    "version": 3
   },
   "file_extension": ".py",
   "mimetype": "text/x-python",
   "name": "python",
   "nbconvert_exporter": "python",
   "pygments_lexer": "ipython3",
   "version": "3.7.16"
  }
 },
 "nbformat": 4,
 "nbformat_minor": 5
}
