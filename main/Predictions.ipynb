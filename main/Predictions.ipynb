{
 "cells": [
  {
   "cell_type": "code",
   "execution_count": null,
   "id": "413268f4",
   "metadata": {},
   "outputs": [],
   "source": [
    "\"\"\"\n",
    "Classifications and Regressions using features generated from the computed mask\n",
    "\n",
    "Conduct feature selection with the corresponding classificaton model\n",
    "\n",
    "Conduct featurer selection with the corresponding regression model\n",
    "\n",
    "\"\"\""
   ]
  },
  {
   "cell_type": "code",
   "execution_count": 89,
   "id": "442e0bf3",
   "metadata": {},
   "outputs": [],
   "source": [
    "# Project-wide Library calls\n",
    "import nibabel as nib\n",
    "import numpy as np\n",
    "import pandas as pd\n",
    "import os\n",
    "import matplotlib.pyplot as plt\n",
    "from skimage.util import montage \n",
    "from skimage.transform import rotate\n",
    "from sklearn.model_selection import train_test_split as ttt\n",
    "from sklearn.metrics import accuracy_score as AS\n",
    "import torch\n",
    "import torch.nn as nn \n",
    "import torch.nn.functional as F\n",
    "from torch.utils.data import Dataset, DataLoader\n",
    "import torch.optim as optim\n",
    "from tqdm import tqdm\n",
    "from pylab import *\n",
    "import gc\n",
    "import torchmetrics \n",
    "import radiomics\n",
    "from torchvision.utils import save_image\n",
    "import matplotlib.image\n",
    "import SimpleITK as sitk\n",
    "import radiomics\n",
    "\n"
   ]
  },
  {
   "cell_type": "code",
   "execution_count": 90,
   "id": "c6b98343",
   "metadata": {},
   "outputs": [],
   "source": [
    "FEAT_PATH ='log/feature_extraction/'\n",
    "tf=torch.load(FEAT_PATH+'tf.pt')\n",
    "ef=torch.load(FEAT_PATH+'ef.pt')\n",
    "ttf=torch.load(FEAT_PATH+'ttf.pt')\n",
    "\n",
    "ts=torch.load(FEAT_PATH+'ts.pt')\n",
    "es=torch.load(FEAT_PATH+'es.pt')\n",
    "tts=torch.load(FEAT_PATH+'tts.pt')\n",
    "\n",
    "tc=torch.load(FEAT_PATH+'tc.pt')\n",
    "ec=torch.load(FEAT_PATH+'ec.pt')\n",
    "ttc=torch.load(FEAT_PATH+'ttc.pt')\n",
    "\n",
    "\n",
    "\n",
    "# remove features with low variance\n",
    "from sklearn.feature_selection import VarianceThreshold\n",
    "\n",
    "sel = VarianceThreshold(threshold=5)\n",
    "tf=sel.fit_transform(tf)\n",
    "ef=sel.fit_transform(ef)\n",
    "ttf=sel.fit_transform(ttf)\n",
    "\n",
    "tf=torch.tensor(tf)\n",
    "ef=torch.tensor(ef)\n",
    "ttf=torch.tensor(ttf)\n",
    "\n",
    "# combined all data together\n",
    "F = torch.cat((tf,ef,ttf))\n",
    "\n",
    "S = torch.cat((ts,es,tts))\n",
    "\n",
    "C = torch.cat((tc,ec,ttc))"
   ]
  },
  {
   "cell_type": "code",
   "execution_count": 91,
   "id": "89290966",
   "metadata": {},
   "outputs": [
    {
     "data": {
      "text/plain": [
       "'\\n\\nClassificaton: \\n\\nPatients are divided into three classes:\\n\\nshort-term: survival days < 10 months\\nmid-term: 10 months < survival days < 15 months\\nlong-term: survival days > 15 months\\n\\n'"
      ]
     },
     "execution_count": 91,
     "metadata": {},
     "output_type": "execute_result"
    }
   ],
   "source": [
    "\n",
    "\"\"\"\n",
    "\n",
    "Classificaton: \n",
    "\n",
    "Patients are divided into three classes:\n",
    "\n",
    "short-term: survival days < 10 months\n",
    "mid-term: 10 months < survival days < 15 months\n",
    "long-term: survival days > 15 months\n",
    "\n",
    "\"\"\"\n"
   ]
  },
  {
   "cell_type": "code",
   "execution_count": 92,
   "id": "2c69a71b",
   "metadata": {},
   "outputs": [],
   "source": [
    "from sklearn.feature_selection import SelectKBest\n",
    "from sklearn.feature_selection import f_classif\n",
    "from sklearn.feature_selection import mutual_info_classif\n",
    "from sklearn.model_selection import cross_val_score\n",
    "\n",
    "\n",
    "\n",
    "\n",
    "\n"
   ]
  },
  {
   "cell_type": "code",
   "execution_count": 169,
   "id": "aa78e233",
   "metadata": {},
   "outputs": [
    {
     "name": "stdout",
     "output_type": "stream",
     "text": [
      "feature selected: [False False False  True False False False  True False False False False\n",
      "  True False False False  True False False False False False False False\n",
      " False False False False False False False False False False False False\n",
      " False False  True False  True False  True False  True  True  True  True\n",
      " False  True False False  True False False False False False False  True\n",
      " False False False False  True]\n",
      "Accuracy is:  0.40105105105105104 with a standard deviation of  0.010748066167071038\n"
     ]
    }
   ],
   "source": [
    "from sklearn.svm import SVC\n",
    "# Univariate feature selection\n",
    "f=SelectKBest(f_classif, k=15)\n",
    "\n",
    "f.fit(F,C)\n",
    "feat=f.transform(F)\n",
    "\n",
    "# figure out which feature is selected \n",
    "temp=f.get_support()\n",
    "print(\"feature selected:\",temp)\n",
    "clf = SVC(kernel = 'poly')\n",
    "\n",
    "s=0\n",
    "std=0\n",
    "for i in range(50):\n",
    "    scores=cross_val_score(clf,feat,C,scoring='accuracy',cv=5)\n",
    "    s+=scores.mean()\n",
    "    std+=scores.std()\n",
    "print(\"Accuracy is: \",s/50, \"with a standard deviation of \",std/50)\n",
    "\n",
    "\n"
   ]
  },
  {
   "cell_type": "code",
   "execution_count": 220,
   "id": "70982445",
   "metadata": {},
   "outputs": [
    {
     "name": "stdout",
     "output_type": "stream",
     "text": [
      "feature selected: [False False False False False False False False False False False False\n",
      " False False False False  True False False False False False False False\n",
      " False False False False False False False False False False False False\n",
      " False False False False False False False False  True False False  True\n",
      " False  True False False  True False False False False False False  True\n",
      " False False False False  True]\n",
      "Accuracy is:  0.6841351351351352 with a standard deviation of  0.24257692751440288\n"
     ]
    }
   ],
   "source": [
    "from sklearn.tree import DecisionTreeClassifier as DT\n",
    "# Univariate feature selection\n",
    "f=SelectKBest(f_classif, k=7)\n",
    "\n",
    "f.fit(F,C)\n",
    "feat=f.transform(F)\n",
    "\n",
    "# figure out which feature is selected \n",
    "temp=f.get_support()\n",
    "print(\"feature selected:\",temp)\n",
    "\n",
    "clf = DT(max_depth=30)\n",
    "s=0\n",
    "std=0\n",
    "for i in range(50):\n",
    "    scores=cross_val_score(clf,feat,C,scoring='accuracy',cv=5)\n",
    "    s+=scores.mean()\n",
    "    std+=scores.std()\n",
    "print(\"Accuracy is: \",s/50, \"with a standard deviation of \",std/50)\n"
   ]
  },
  {
   "cell_type": "code",
   "execution_count": 178,
   "id": "493ff9e3",
   "metadata": {},
   "outputs": [
    {
     "name": "stdout",
     "output_type": "stream",
     "text": [
      "feature selected: [False False False False False False False  True False False False False\n",
      " False False False False  True False False False False False False False\n",
      " False False False False False False False False False False False False\n",
      " False False  True False False False  True False  True False False  True\n",
      " False  True False False  True False False False False False False  True\n",
      " False False False False  True]\n",
      "Accuracy is:  0.4905405405405399 with a standard deviation of  0.13792302744733745\n"
     ]
    }
   ],
   "source": [
    "# feature counts =  10\n",
    "from sklearn.neighbors import KNeighborsClassifier as KNN\n",
    "# Univariate feature selection\n",
    "f=SelectKBest(f_classif, k=10)\n",
    "\n",
    "f.fit(F,C)\n",
    "feat=f.transform(F)\n",
    "\n",
    "# figure out which feature is selected \n",
    "temp=f.get_support()\n",
    "print(\"feature selected:\",temp)\n",
    "\n",
    "\n",
    "\n",
    "clf = KNN(n_neighbors=2)\n",
    "s=0\n",
    "std=0\n",
    "for i in range(50):\n",
    "    scores=cross_val_score(clf,feat,C,scoring='accuracy',cv=5)\n",
    "    s+=scores.mean()\n",
    "    std+=scores.std()\n",
    "print(\"Accuracy is: \",s/50, \"with a standard deviation of \",std/50)"
   ]
  },
  {
   "cell_type": "code",
   "execution_count": 224,
   "id": "70c05e68",
   "metadata": {},
   "outputs": [
    {
     "name": "stdout",
     "output_type": "stream",
     "text": [
      "feature selected: [False False False False False False False  True False False False False\n",
      " False False False False  True False False False False False False False\n",
      " False False False False False False False False False False False False\n",
      " False False  True False False False  True False  True  True  True  True\n",
      " False  True False False  True False False False False False False  True\n",
      " False False False False  True]\n",
      "Accuracy is:  0.6532552552552553 with a standard deviation of  0.2591480236258735\n"
     ]
    }
   ],
   "source": [
    "from sklearn.ensemble import RandomForestClassifier\n",
    "# Univariate feature selection\n",
    "f=SelectKBest(f_classif, k=12)\n",
    "\n",
    "f.fit(F,C)\n",
    "feat=f.transform(F)\n",
    "\n",
    "# figure out which feature is selected \n",
    "temp=f.get_support()\n",
    "print(\"feature selected:\",temp)\n",
    "\n",
    "\n",
    "clf = RandomForestClassifier(max_depth=30)\n",
    "s=0\n",
    "std=0\n",
    "for i in range(50):\n",
    "    scores=cross_val_score(clf,feat,C,scoring='accuracy',cv=5)\n",
    "    s+=scores.mean()\n",
    "    std+=scores.std()\n",
    "print(\"Accuracy is: \",s/50, \"with a standard deviation of \",std/50)"
   ]
  },
  {
   "cell_type": "code",
   "execution_count": 188,
   "id": "51a86883",
   "metadata": {},
   "outputs": [
    {
     "name": "stdout",
     "output_type": "stream",
     "text": [
      "feature selected: [False False False False False False False  True False False False False\n",
      " False False False False  True False False False False False False False\n",
      " False False False False False False False False False False False False\n",
      " False False  True False False False  True False  True False False  True\n",
      " False  True False False  True False False False False False False  True\n",
      " False False False False  True]\n",
      "Accuracy is:  0.6485165165165165 with a standard deviation of  0.2518179914128382\n"
     ]
    }
   ],
   "source": [
    "# feature count = 10\n",
    "from sklearn.ensemble import ExtraTreesClassifier\n",
    "f=SelectKBest(f_classif, k=10)\n",
    "\n",
    "f.fit(F,C)\n",
    "feat=f.transform(F)\n",
    "\n",
    "# figure out which feature is selected \n",
    "temp=f.get_support()\n",
    "print(\"feature selected:\",temp)\n",
    "\n",
    "\n",
    "clf = ExtraTreesClassifier(n_estimators=25)\n",
    "s=0\n",
    "std=0\n",
    "for i in range(50):\n",
    "    scores=cross_val_score(clf,feat,C,scoring='accuracy',cv=5)\n",
    "    s+=scores.mean()\n",
    "    std+=scores.std()\n",
    "print(\"Accuracy is: \",s/50, \"with a standard deviation of \",std/50)"
   ]
  },
  {
   "cell_type": "code",
   "execution_count": 150,
   "id": "8cd5b1ab",
   "metadata": {},
   "outputs": [],
   "source": [
    "\"\"\"\n",
    "\n",
    "Regression part\n",
    "\n",
    "\"\"\"\n",
    "from sklearn.feature_selection import SelectFromModel\n",
    "from sklearn.linear_model import LinearRegression\n",
    "from sklearn.metrics import mean_squared_error,make_scorer\n",
    "\n",
    "from sklearn.ensemble import RandomForestRegressor as RFR\n",
    "from sklearn.ensemble import ExtraTreesRegressor as ETR\n",
    "from sklearn.neighbors import KNeighborsRegressor as KNR\n",
    "from sklearn.feature_selection import f_regression"
   ]
  },
  {
   "cell_type": "code",
   "execution_count": 225,
   "id": "22d241f0",
   "metadata": {},
   "outputs": [
    {
     "name": "stdout",
     "output_type": "stream",
     "text": [
      "[ True  True  True False False False False False False  True  True  True\n",
      " False False False False False False False False False False False False\n",
      " False False False False False False False False False False False False\n",
      " False False False False False False False False False False False False\n",
      " False  True False  True False False False False False False False False\n",
      " False False False False False]\n",
      "MSE is:  119858.74687500011  with a standard deviation of  27132.604759263362\n"
     ]
    }
   ],
   "source": [
    "# SKlearn feature extraction and regression\n",
    "# Simple Linear regression\n",
    "selector = SelectFromModel(estimator=LinearRegression()).fit(F, S)\n",
    "print(selector.get_support())\n",
    "feat=selector.transform(F)\n",
    "clf=LinearRegression()\n",
    "s=0\n",
    "std=0\n",
    "for i in range(50):\n",
    "    scores=cross_val_score(clf,feat,S,scoring=make_scorer(mean_squared_error),cv=5)\n",
    "    s+=scores.mean()\n",
    "    std+=scores.std()\n",
    "print(\"MSE is: \",s/50,\" with a standard deviation of \",std/50)"
   ]
  },
  {
   "cell_type": "code",
   "execution_count": 226,
   "id": "e94c6dd2",
   "metadata": {
    "scrolled": true
   },
   "outputs": [
    {
     "name": "stdout",
     "output_type": "stream",
     "text": [
      "feature selected: [False  True  True  True  True  True  True  True  True False  True  True\n",
      "  True  True  True  True  True  True False False False False False False\n",
      " False False False False False False False False  True False False False\n",
      " False False False False False False False False False False False False\n",
      " False False False False False False False  True False False  True False\n",
      " False False False False  True]\n",
      "MSE is:  71150.27987554405  with a standard deviation of  45444.82333604785\n"
     ]
    }
   ],
   "source": [
    "# KNN regressor\n",
    "f=SelectKBest(f_regression, k=20)\n",
    "\n",
    "f.fit(F,S)\n",
    "feat=f.transform(F)\n",
    "# figure out which feature is selected \n",
    "temp=f.get_support()\n",
    "print(\"feature selected:\",temp)\n",
    "clf=RFR(n_estimators = 80)\n",
    "s=0\n",
    "std=0\n",
    "for i in range(50):\n",
    "    scores=cross_val_score(clf,feat,S,scoring=make_scorer(mean_squared_error),cv=5)\n",
    "    s+=scores.mean()\n",
    "    std+=scores.std()\n",
    "print(\"MSE is: \",s/50,\" with a standard deviation of \",std/50)"
   ]
  },
  {
   "cell_type": "code",
   "execution_count": 227,
   "id": "5e209bd2",
   "metadata": {
    "scrolled": true
   },
   "outputs": [
    {
     "name": "stdout",
     "output_type": "stream",
     "text": [
      "[ True False False  True False False False False False False False False\n",
      "  True False  True False False False False False False False False False\n",
      " False False False False False False False False  True False False False\n",
      " False False  True False False False False False False False False False\n",
      "  True False False  True False  True  True False  True False  True False\n",
      " False False False False  True]\n",
      "MSE is:  72176.79246800511  with a standard deviation of  47752.050866522935\n"
     ]
    }
   ],
   "source": [
    "# KNN regressor\n",
    "selector = SelectFromModel(estimator=RFR(n_estimators = 80)).fit(F, S)\n",
    "print(selector.get_support())\n",
    "feat=selector.transform(F)\n",
    "clf=RFR(n_estimators = 80)\n",
    "s=0\n",
    "std=0\n",
    "for i in range(50):\n",
    "    scores=cross_val_score(clf,feat,S,scoring=make_scorer(mean_squared_error),cv=5)\n",
    "    s+=scores.mean()\n",
    "    std+=scores.std()\n",
    "print(\"MSE is: \",s/50,\" with a standard deviation of \",std/50)"
   ]
  },
  {
   "cell_type": "code",
   "execution_count": 228,
   "id": "ba5c1b0f",
   "metadata": {},
   "outputs": [
    {
     "name": "stdout",
     "output_type": "stream",
     "text": [
      "feature selected: [False False  True  True  True  True  True  True False False False  True\n",
      "  True  True  True  True  True False False False False False False False\n",
      " False False False False False False False False False False False False\n",
      " False False False False False False False False False False False False\n",
      " False False False False False False False  True False False  True False\n",
      " False False False False  True]\n",
      "MSE is:  69815.5810295378  with a standard deviation of  59482.99323292219\n"
     ]
    }
   ],
   "source": [
    "f=SelectKBest(f_regression, k=15)\n",
    "\n",
    "f.fit(F,S)\n",
    "feat=f.transform(F)\n",
    "# figure out which feature is selected \n",
    "temp=f.get_support()\n",
    "print(\"feature selected:\",temp)\n",
    "clf=ETR(n_estimators = 100)\n",
    "s=0\n",
    "std=0\n",
    "for i in range(50):\n",
    "    scores=cross_val_score(clf,feat,S,scoring=make_scorer(mean_squared_error),cv=5)\n",
    "    s+=scores.mean()\n",
    "    std+=scores.std()\n",
    "print(\"MSE is: \",s/50,\" with a standard deviation of \",std/50)"
   ]
  },
  {
   "cell_type": "code",
   "execution_count": 229,
   "id": "6b3c3ae3",
   "metadata": {},
   "outputs": [
    {
     "name": "stdout",
     "output_type": "stream",
     "text": [
      "[ True  True  True  True  True  True  True False  True  True  True  True\n",
      "  True  True  True False False False False False False False False False\n",
      " False False False False False False False False  True False False False\n",
      " False False False False False False False False False False False False\n",
      "  True False False False False False  True  True False  True  True False\n",
      " False  True False False  True]\n",
      "MSE is:  67212.90361658495  with a standard deviation of  55453.6724792246\n"
     ]
    }
   ],
   "source": [
    "# Extra tree regressor\n",
    "selector = SelectFromModel(estimator=ETR(n_estimators = 100)).fit(F, S)\n",
    "print(selector.get_support())\n",
    "feat=selector.transform(F)\n",
    "\n",
    "clf=ETR(n_estimators = 100)\n",
    "s=0\n",
    "std=0\n",
    "for i in range(50):\n",
    "    scores=cross_val_score(clf,feat,S,scoring=make_scorer(mean_squared_error),cv=5)\n",
    "    s+=scores.mean()\n",
    "    std+=scores.std()\n",
    "print(\"MSE is: \",s/50,\" with a standard deviation of \",std/50)"
   ]
  },
  {
   "cell_type": "code",
   "execution_count": 241,
   "id": "2c1fc4c2",
   "metadata": {},
   "outputs": [
    {
     "name": "stdout",
     "output_type": "stream",
     "text": [
      "feature selected: [False False  True  True  True  True  True  True False False False  True\n",
      "  True  True  True  True  True False False False False False False False\n",
      " False False False False False False False False False False False False\n",
      " False False False False False False False False False False False False\n",
      " False False False False False False False  True False False  True False\n",
      " False False False False  True]\n",
      "MSE is:  122477.40156249989  with a standard deviation of  27375.604074228573\n"
     ]
    }
   ],
   "source": [
    "from sklearn.neighbors import KNeighborsRegressor\n",
    "f=SelectKBest(f_regression, k=15)\n",
    "\n",
    "f.fit(F,S)\n",
    "feat=f.transform(F)\n",
    "# figure out which feature is selected \n",
    "temp=f.get_support()\n",
    "print(\"feature selected:\",temp)\n",
    "clf= KNeighborsRegressor(n_neighbors=15)\n",
    "s=0\n",
    "std=0\n",
    "for i in range(50):\n",
    "    scores=cross_val_score(clf,feat,S,scoring=make_scorer(mean_squared_error),cv=5)\n",
    "    s+=scores.mean()\n",
    "    std+=scores.std()\n",
    "print(\"MSE is: \",s/50,\" with a standard deviation of \",std/50)"
   ]
  },
  {
   "cell_type": "code",
   "execution_count": 253,
   "id": "b6535dfc",
   "metadata": {},
   "outputs": [
    {
     "name": "stdout",
     "output_type": "stream",
     "text": [
      "feature selected: [ True  True  True  True  True  True  True  True  True  True  True  True\n",
      "  True  True  True  True  True  True False False False False False False\n",
      " False False False False False False False False  True False False False\n",
      " False False False False False False False False False False False False\n",
      " False False False False False False  True  True False False  True False\n",
      " False  True False  True  True]\n",
      "MSE is:  123979.18203338207  with a standard deviation of  104072.55867255018\n"
     ]
    }
   ],
   "source": [
    "from sklearn.tree import DecisionTreeRegressor\n",
    "f=SelectKBest(f_regression, k=25)\n",
    "\n",
    "f.fit(F,S)\n",
    "feat=f.transform(F)\n",
    "# figure out which feature is selected \n",
    "temp=f.get_support()\n",
    "print(\"feature selected:\",temp)\n",
    "clf= DecisionTreeRegressor(criterion = 'friedman_mse',max_depth=15)\n",
    "s=0\n",
    "std=0\n",
    "for i in range(50):\n",
    "    scores=cross_val_score(clf,feat,S,scoring=make_scorer(mean_squared_error),cv=5)\n",
    "    s+=scores.mean()\n",
    "    std+=scores.std()\n",
    "print(\"MSE is: \",s/50,\" with a standard deviation of \",std/50)"
   ]
  },
  {
   "cell_type": "code",
   "execution_count": 255,
   "id": "06433b03",
   "metadata": {},
   "outputs": [
    {
     "name": "stdout",
     "output_type": "stream",
     "text": [
      "feature selected: [False False  True  True  True  True  True  True False False False  True\n",
      "  True  True  True  True  True False False False False False False False\n",
      " False False False False False False False False False False False False\n",
      " False False False False False False False False False False False False\n",
      " False False False False False False False  True False False  True False\n",
      " False False False False  True]\n",
      "MSE is:  1.850749126753931e+32  with a standard deviation of  1.950698889123793e+32\n"
     ]
    }
   ],
   "source": [
    "from sklearn.linear_model import SGDRegressor\n",
    "\n",
    "f=SelectKBest(f_regression, k=15)\n",
    "\n",
    "f.fit(F,S)\n",
    "feat=f.transform(F)\n",
    "# figure out which feature is selected \n",
    "temp=f.get_support()\n",
    "print(\"feature selected:\",temp)\n",
    "clf= SGDRegressor()\n",
    "s=0\n",
    "std=0\n",
    "for i in range(50):\n",
    "    scores=cross_val_score(clf,feat,S,scoring=make_scorer(mean_squared_error),cv=5)\n",
    "    s+=scores.mean()\n",
    "    std+=scores.std()\n",
    "print(\"MSE is: \",s/50,\" with a standard deviation of \",std/50)"
   ]
  },
  {
   "cell_type": "code",
   "execution_count": null,
   "id": "dd188db9",
   "metadata": {},
   "outputs": [],
   "source": []
  }
 ],
 "metadata": {
  "kernelspec": {
   "display_name": "FYP",
   "language": "python",
   "name": "fyp"
  },
  "language_info": {
   "codemirror_mode": {
    "name": "ipython",
    "version": 3
   },
   "file_extension": ".py",
   "mimetype": "text/x-python",
   "name": "python",
   "nbconvert_exporter": "python",
   "pygments_lexer": "ipython3",
   "version": "3.7.16"
  }
 },
 "nbformat": 4,
 "nbformat_minor": 5
}
