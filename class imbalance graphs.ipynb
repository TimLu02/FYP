{
 "cells": [
  {
   "cell_type": "code",
   "execution_count": 9,
   "id": "662cf5fc",
   "metadata": {},
   "outputs": [],
   "source": [
    "# Necessary Library Calls\n",
    "import nibabel as nib\n",
    "import numpy as np\n",
    "import pandas as pd\n",
    "import os\n",
    "import matplotlib.pyplot as plt\n",
    "from skimage.util import montage \n",
    "from skimage.transform import rotate\n",
    "import torch\n",
    "import torch.nn as nn \n",
    "import torch.nn.functional as F\n",
    "from torch.utils.data import Dataset, DataLoader\n",
    "from torchvision import transforms, utils\n",
    "import torch.optim as optim\n",
    "from tqdm import tqdm\n",
    "from pylab import *\n",
    "device = torch.device('cuda')\n",
    "import gc"
   ]
  },
  {
   "cell_type": "code",
   "execution_count": 10,
   "id": "2872ea71",
   "metadata": {},
   "outputs": [],
   "source": [
    "# Global variable definition\n",
    "IMAGE_PATH = 'data/MICCAI_BraTS_2019_Data_Training'\n",
    "CSV_FILE='data/MICCAI_BraTS_2019_Data_Training/new.csv'\n"
   ]
  },
  {
   "cell_type": "code",
   "execution_count": 11,
   "id": "1a05377a",
   "metadata": {},
   "outputs": [],
   "source": [
    "def get_image(image_path,image_cat,image_id,image_type):\n",
    "    t1_data=nib.load(os.path.join(image_path,image_cat,image_id,'')+image_id+'_t1.nii.gz').get_fdata()\n",
    "    t1ce_data=nib.load(os.path.join(image_path,image_cat,image_id,'')+image_id+'_t1ce.nii.gz').get_fdata()\n",
    "    t2_data=nib.load(os.path.join(image_path,image_cat,image_id,'')+image_id+'_t2.nii.gz').get_fdata()\n",
    "    seg_data=nib.load(image_path+'/'+image_cat+'/'+image_id+'/'+image_id+'_seg.nii.gz').get_fdata()\n",
    "    flair_data=nib.load(os.path.join(image_path,image_cat,image_id,'')+image_id+'_flair.nii.gz').get_fdata()\n",
    "    result={'t1':t1_data,'t1ce':t1ce_data,'t2':t2_data,'seg':seg_data,'flair':flair_data}\n",
    "   \n",
    "    return result[image_type]; "
   ]
  },
  {
   "cell_type": "code",
   "execution_count": 12,
   "id": "b19b9c24",
   "metadata": {},
   "outputs": [],
   "source": [
    "tumor_present=0\n",
    "tumor_nonpresent=0"
   ]
  },
  {
   "cell_type": "code",
   "execution_count": 13,
   "id": "82191e01",
   "metadata": {},
   "outputs": [],
   "source": [
    "def tumor_slices_counter(image):\n",
    "    p=0\n",
    "    n=0\n",
    "    for i in range (155):\n",
    "        temp=image[:,:,i]\n",
    "        if (1 in temp) or (2 in temp) or (4 in temp):\n",
    "            p=p+1\n",
    "        else:\n",
    "            n=n+1\n",
    "       \n",
    "    return p,n"
   ]
  },
  {
   "cell_type": "code",
   "execution_count": 14,
   "id": "fd9b533b",
   "metadata": {},
   "outputs": [
    {
     "name": "stdout",
     "output_type": "stream",
     "text": [
      "184\n"
     ]
    }
   ],
   "source": [
    "source = pd.read_csv(CSV_FILE)\n",
    "print(len(source))"
   ]
  },
  {
   "cell_type": "code",
   "execution_count": 15,
   "id": "f7fa0c50",
   "metadata": {},
   "outputs": [],
   "source": [
    "for i in range(len(source)):\n",
    "    image_cat=source.iloc[i,0]\n",
    "    image_id=source.iloc[i,1]\n",
    "    mask = get_image(IMAGE_PATH,image_cat,image_id,'seg')\n",
    "    temp = tumor_slices_counter(mask)\n",
    "    tumor_present+=temp[0]\n",
    "    tumor_nonpresent+=temp[1]"
   ]
  },
  {
   "cell_type": "code",
   "execution_count": 16,
   "id": "d4a11e31",
   "metadata": {},
   "outputs": [
    {
     "name": "stdout",
     "output_type": "stream",
     "text": [
      "present:  12074\n",
      "missing:  16446\n"
     ]
    }
   ],
   "source": [
    "print(\"present: \", tumor_present)\n",
    "print(\"missing: \", tumor_nonpresent)"
   ]
  },
  {
   "cell_type": "code",
   "execution_count": 17,
   "id": "28d13578",
   "metadata": {},
   "outputs": [],
   "source": [
    "avg_p=tumor_present/184\n",
    "avg_n=tumor_nonpresent/184"
   ]
  },
  {
   "cell_type": "code",
   "execution_count": 20,
   "id": "4d70c83c",
   "metadata": {},
   "outputs": [
    {
     "name": "stdout",
     "output_type": "stream",
     "text": [
      "65.6195652173913\n",
      "89.3804347826087\n"
     ]
    }
   ],
   "source": [
    "print(avg_p)\n",
    "print(avg_n)"
   ]
  },
  {
   "cell_type": "code",
   "execution_count": 40,
   "id": "3fa4036f",
   "metadata": {},
   "outputs": [
    {
     "data": {
      "text/plain": [
       "2448"
      ]
     },
     "execution_count": 40,
     "metadata": {},
     "output_type": "execute_result"
    }
   ],
   "source": [
    "gc.collect()"
   ]
  },
  {
   "cell_type": "code",
   "execution_count": 109,
   "id": "5f27124e",
   "metadata": {},
   "outputs": [
    {
     "data": {
      "image/png": "[encoded data removed]",
      "text/plain": [
       "<Figure size 400x400 with 1 Axes>"
      ]
     },
     "metadata": {},
     "output_type": "display_data"
    }
   ],
   "source": [
    "plt.rcParams['xtick.top'] = plt.rcParams['xtick.labeltop'] = False\n",
    "fig, ax = plt.subplots(figsize =(4, 4))\n",
    "bars = ax.bar(('Non-tumor Slices','Tumor Slices'),(avg_p,avg_n),color=('lightblue','lightgreen'),width=0.5)\n",
    "#ax.set_title(\"Average Tumor and Non-tumor Slice Numbers in BraTS 2019 Dataset\")\n",
    "ax.set_ylabel('number of slices')\n",
    "for bar in bars:\n",
    "    yval = bar.get_height()\n",
    "    ax.text(bar.get_x()+0.1, yval + 1, (\"%.2f\" % yval))"
   ]
  },
  {
   "cell_type": "code",
   "execution_count": 73,
   "id": "7e935aae",
   "metadata": {},
   "outputs": [],
   "source": [
    "def class_counter(image):\n",
    "    n=0\n",
    "    et=0\n",
    "    ed=0\n",
    "    ncr=0\n",
    "    for i in range (155):\n",
    "        temp=image[:,:,i]\n",
    "        for k in range (240):\n",
    "            for j in range (240):\n",
    "                if temp[k,j]== 1:\n",
    "                    ncr=ncr+1\n",
    "                elif temp[k,j]== 2:\n",
    "                    ed+=1\n",
    "                elif temp[k,j]==4:\n",
    "                    et+=1\n",
    "                else:\n",
    "                    n+=1\n",
    "    \n",
    "    return n,ncr,ed,et,"
   ]
  },
  {
   "cell_type": "code",
   "execution_count": 75,
   "id": "2114b389",
   "metadata": {},
   "outputs": [],
   "source": [
    "n=0\n",
    "ncr=0\n",
    "ed=0\n",
    "et=0\n",
    "\n",
    "for i in range(len(source)):\n",
    "    image_cat=source.iloc[i,0]\n",
    "    image_id=source.iloc[i,1]\n",
    "    mask = get_image(IMAGE_PATH,image_cat,image_id,'seg')\n",
    "    temp = class_counter(mask)\n",
    "    n+=temp[0]\n",
    "    ncr+=temp[1]\n",
    "    ed+=temp[2]\n",
    "    et+=temp[3]"
   ]
  },
  {
   "cell_type": "code",
   "execution_count": 76,
   "id": "daf98329",
   "metadata": {},
   "outputs": [
    {
     "name": "stdout",
     "output_type": "stream",
     "text": [
      "1624380327\n",
      "2648098\n",
      "11014052\n",
      "4709523\n"
     ]
    }
   ],
   "source": [
    "print(n)\n",
    "print(ncr)\n",
    "print(ed)\n",
    "print(et)"
   ]
  },
  {
   "cell_type": "code",
   "execution_count": 110,
   "id": "17d670a9",
   "metadata": {},
   "outputs": [
    {
     "data": {
      "image/png": "[encoded data removed]",
      "text/plain": [
       "<Figure size 500x500 with 1 Axes>"
      ]
     },
     "metadata": {},
     "output_type": "display_data"
    }
   ],
   "source": [
    "plt.figure(figsize=(5, 5))\n",
    "plt.rcParams.update({'font.size': 8})\n",
    "plt.pie((n,(ncr+ed+et)), pctdistance = 0.7,autopct = '%.2f%%')\n",
    "plt.legend(bbox_to_anchor=(1, 1),labels =(\"Non-tumor Pixels \",\"Tumor Pixels\"), loc=2, frameon=False)\n",
    "#plt.title(\"Distribution of Tumor and Non-tumor Pixels in BraTS 2019 Dataset\")\n",
    "plt.show() "
   ]
  },
  {
   "cell_type": "code",
   "execution_count": null,
   "id": "8a7e8b8f",
   "metadata": {},
   "outputs": [],
   "source": []
  }
 ],
 "metadata": {
  "kernelspec": {
   "display_name": "FYP",
   "language": "python",
   "name": "fyp"
  },
  "language_info": {
   "codemirror_mode": {
    "name": "ipython",
    "version": 3
   },
   "file_extension": ".py",
   "mimetype": "text/x-python",
   "name": "python",
   "nbconvert_exporter": "python",
   "pygments_lexer": "ipython3",
   "version": "3.7.16"
  }
 },
 "nbformat": 4,
 "nbformat_minor": 5
}
